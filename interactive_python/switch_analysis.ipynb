{
 "cells": [
  {
   "cell_type": "code",
   "execution_count": 31,
   "metadata": {},
   "outputs": [],
   "source": [
    "import dash_core_components as dcc\n",
    "import dash_html_components as html\n",
    "import dash_bootstrap_components as dbc\n",
    "from dash.dependencies import Input, Output, State\n",
    "from app import app\n",
    "\n",
    "import math\n",
    "import numpy as np\n",
    "import pandas as pd\n",
    "import plotly.offline as pyo\n",
    "import plotly.express as px\n",
    "import plotly.graph_objs as go\n",
    "import dash as dash\n",
    "import json\n",
    "from datetime import datetime as dt\n",
    "from datetime import timedelta\n",
    "import re\n",
    "\n",
    "from modules import module_vobcfault\n",
    "from modules import module_commLoss\n",
    "from views.ViewTrainmoveClass import ViewTrainmoveClass\n",
    "from views.view_commLossListClass import ViewCommLossListClass\n",
    "\n",
    "\n",
    "import util as util\n",
    "\n"
   ]
  },
  {
   "cell_type": "code",
   "execution_count": 33,
   "metadata": {},
   "outputs": [],
   "source": [
    "def get_switch_time(start_date, end_date, s):\n",
    "    start_date, end_date = util.date2str2(start_date,end_date)\n",
    "\n",
    "    query = (\"SELECT interval, switchId  \"\n",
    "             \" from dlr_switch_move \"\n",
    "             \" where interval > 0 and interval < 60 and loggedAt >= '{}' and loggedAt < '{}' and switchId = {}\"\n",
    "             \" LIMIT 5000 \").format( start_date, end_date, s)\n",
    "    \n",
    "    df = util.run_query(query)\n",
    "\n",
    "    return df"
   ]
  },
  {
   "cell_type": "code",
   "execution_count": 35,
   "metadata": {},
   "outputs": [],
   "source": [
    "def get_switch_list(start_date, end_date):\n",
    "    start_date, end_date = util.date2str2(start_date,end_date)\n",
    "\n",
    "    query = (\"SELECT switchId  \"\n",
    "             \" from dlr_switch_move \"\n",
    "             \" where interval > 0 and interval < 60 and loggedAt >= '{}' and loggedAt < '{}'\"\n",
    "             \" group by switchId LIMIT 5000 \").format( start_date, end_date)\n",
    "    \n",
    "    L = util.run_query(query)\n",
    "\n",
    "    return L"
   ]
  },
  {
   "cell_type": "code",
   "execution_count": 37,
   "metadata": {},
   "outputs": [],
   "source": [
    "start_date = dt(2012, 1, 1)\n",
    "end_date = dt(2020, 1, 1)\n",
    "start_date, end_date  = util.date2str2(start_date, end_date )"
   ]
  },
  {
   "cell_type": "code",
   "execution_count": 39,
   "metadata": {},
   "outputs": [],
   "source": [
    "def get_switch_count(start_date, end_date):\n",
    "    start_date, end_date = util.date2str2(start_date,end_date)\n",
    "\n",
    "    query = (\"SELECT switchId, COUNT(*) as amt from dlr_switch_move\" \n",
    "            \" where interval >= 0 and intervalDesc in ('Moving Time to Left' , 'Moving Time to Right' )\" \n",
    "            \" and loggedAt >= '{}' and loggedAt < '{}'\" \n",
    "            \" group by switchId\").format( start_date, end_date)\n",
    "    \n",
    "    L = util.run_query(query)\n",
    "\n",
    "    return L"
   ]
  },
  {
   "cell_type": "code",
   "execution_count": 40,
   "metadata": {},
   "outputs": [],
   "source": [
    "def get_switch_filter_val(start_date, end_date, switchId, Limit):\n",
    "    start_date, end_date = util.date2str2(start_date,end_date)\n",
    "    Limit = int(Limit)\n",
    "    query = (\"SELECT interval, switchId from dlr_switch_move\"\n",
    "            \" where interval > 0 and intervalDesc in ('Moving Time to Left' , 'Moving Time to Right' )\"\n",
    "            \" and switchId = '{}' and loggedAt >= '{}' and loggedAt < '{}'\" \n",
    "            \" order by interval desc LIMIT {}\").format(switchId, start_date, end_date, Limit)\n",
    "    \n",
    "    L = util.run_query(query)\n",
    "    if L is None or L.empty:\n",
    "        return 0\n",
    "    return L[\"interval\"].min()"
   ]
  },
  {
   "cell_type": "code",
   "execution_count": 41,
   "metadata": {},
   "outputs": [],
   "source": [
    "def get_avg(start_date, end_date, switchId, interval_max):\n",
    "    start_date, end_date = util.date2str2(start_date,end_date) \n",
    "    query = (\"SELECT AVG(interval) as int_Avg from dlr_switch_move\"\n",
    "            \" where interval > 0 and interval < {}  and intervalDesc in ('Moving Time to Left' , 'Moving Time to Right' )\"\n",
    "            \" and switchId = '{}' and loggedAt >= '{}' and loggedAt < '{}'\" \n",
    "            ).format(interval_max, switchId, start_date, end_date)\n",
    "    \n",
    "    L = util.run_query(query)\n",
    "    if L is None or L.empty:\n",
    "        return 0\n",
    "    return L[\"int_Avg\"].min()\n",
    "  "
   ]
  },
  {
   "cell_type": "code",
   "execution_count": 42,
   "metadata": {},
   "outputs": [],
   "source": [
    "def get_min(start_date, end_date, switchId, interval_max):\n",
    "    start_date, end_date = util.date2str2(start_date,end_date)\n",
    "    query = (\"SELECT interval from dlr_switch_move\"\n",
    "            \" where interval > 0 and interval < {}  and intervalDesc in ('Moving Time to Left' , 'Moving Time to Right' )\"\n",
    "            \" and switchId = '{}' and loggedAt >= '{}' and loggedAt < '{}'\" \n",
    "            \" order by interval ASC LIMIT 5\").format(interval_max, switchId, start_date, end_date)\n",
    "\n",
    "    L = util.run_query(query)\n",
    "    if L is None or L.empty:\n",
    "        return 0\n",
    "    return L[\"interval\"].min()"
   ]
  },
  {
   "cell_type": "code",
   "execution_count": 43,
   "metadata": {},
   "outputs": [],
   "source": [
    "def get_d0(start_date, end_date, switchId, avg):\n",
    "    start_date, end_date = util.date2str2(start_date,end_date)\n",
    "\n",
    "    query = (\"SELECT AVG(interval) as int_Avg from dlr_switch_move\"\n",
    "            \" where interval > 0 and interval <= {}  and intervalDesc in ('Moving Time to Left' , 'Moving Time to Right' )\"\n",
    "            \" and switchId = '{}' and loggedAt >= '{}' and loggedAt < '{}'\" \n",
    "            ).format(avg, switchId, start_date, end_date)\n",
    "\n",
    "    L = util.run_query(query)\n",
    "    if L is None or L.empty:\n",
    "        return 0\n",
    "    return L[\"int_Avg\"].min()"
   ]
  },
  {
   "cell_type": "code",
   "execution_count": 44,
   "metadata": {},
   "outputs": [],
   "source": [
    "def get_d1(start_date, end_date, switchId, avg, interval_max):\n",
    "    start_date, end_date = util.date2str2(start_date,end_date)\n",
    "    \n",
    "    query = (\"SELECT AVG(interval) as int_Avg from dlr_switch_move\"\n",
    "            \" where interval > {} and interval < {}  and intervalDesc in ('Moving Time to Left' , 'Moving Time to Right')\"\n",
    "            \" and switchId = '{}' and loggedAt >= '{}' and loggedAt < '{}'\" \n",
    "            ).format(avg, interval_max, switchId, start_date, end_date)\n",
    "\n",
    "    L = util.run_query(query)\n",
    "    if L is None or L.empty:\n",
    "        return 0\n",
    "    return L[\"int_Avg\"].max()"
   ]
  },
  {
   "cell_type": "code",
   "execution_count": 135,
   "metadata": {},
   "outputs": [
    {
     "output_type": "execute_result",
     "data": {
      "text/plain": "     switchId      amt\n0         101  350.077\n1         104    1.475\n2         105    1.475\n3         106    2.252\n4         107    2.251\n..        ...      ...\n129       410    1.187\n130       411    8.881\n131       412    8.881\n132       413  132.290\n133       414  132.287\n\n[134 rows x 2 columns]",
      "text/html": "<div>\n<style scoped>\n    .dataframe tbody tr th:only-of-type {\n        vertical-align: middle;\n    }\n\n    .dataframe tbody tr th {\n        vertical-align: top;\n    }\n\n    .dataframe thead th {\n        text-align: right;\n    }\n</style>\n<table border=\"1\" class=\"dataframe\">\n  <thead>\n    <tr style=\"text-align: right;\">\n      <th></th>\n      <th>switchId</th>\n      <th>amt</th>\n    </tr>\n  </thead>\n  <tbody>\n    <tr>\n      <th>0</th>\n      <td>101</td>\n      <td>350.077</td>\n    </tr>\n    <tr>\n      <th>1</th>\n      <td>104</td>\n      <td>1.475</td>\n    </tr>\n    <tr>\n      <th>2</th>\n      <td>105</td>\n      <td>1.475</td>\n    </tr>\n    <tr>\n      <th>3</th>\n      <td>106</td>\n      <td>2.252</td>\n    </tr>\n    <tr>\n      <th>4</th>\n      <td>107</td>\n      <td>2.251</td>\n    </tr>\n    <tr>\n      <th>...</th>\n      <td>...</td>\n      <td>...</td>\n    </tr>\n    <tr>\n      <th>129</th>\n      <td>410</td>\n      <td>1.187</td>\n    </tr>\n    <tr>\n      <th>130</th>\n      <td>411</td>\n      <td>8.881</td>\n    </tr>\n    <tr>\n      <th>131</th>\n      <td>412</td>\n      <td>8.881</td>\n    </tr>\n    <tr>\n      <th>132</th>\n      <td>413</td>\n      <td>132.290</td>\n    </tr>\n    <tr>\n      <th>133</th>\n      <td>414</td>\n      <td>132.287</td>\n    </tr>\n  </tbody>\n</table>\n<p>134 rows × 2 columns</p>\n</div>"
     },
     "metadata": {},
     "execution_count": 135
    }
   ],
   "source": [
    "df1 = get_switch_count(start_date, end_date)\n",
    "df1[\"amt\"] = df1[\"amt\"].div(1000)\n",
    "\n",
    "df1 "
   ]
  },
  {
   "cell_type": "code",
   "execution_count": 117,
   "metadata": {},
   "outputs": [
    {
     "output_type": "stream",
     "name": "stdout",
     "text": "3.46 s ± 187 ms per loop (mean ± std. dev. of 7 runs, 1 loop each)\n"
    }
   ],
   "source": [
    "%%timeit\n",
    "\n",
    "df2 = df1\n",
    "df2[\"max\"] = 0.0\n",
    "for ind in df2.index:\n",
    "    df2[\"max\"][ind] = get_switch_filter_val(start_date, end_date, df2[\"switchId\"][ind], df2[\"amt\"][ind])\n",
    "pd.set_option('precision', 5)\n",
    "df2 \n"
   ]
  },
  {
   "cell_type": "code",
   "execution_count": 125,
   "metadata": {},
   "outputs": [
    {
     "output_type": "stream",
     "name": "stdout",
     "text": "3.28 s ± 108 ms per loop (mean ± std. dev. of 7 runs, 1 loop each)\n"
    }
   ],
   "source": [
    "%%timeit\n",
    "df2 = df1\n",
    "filter_series = []\n",
    "df2[\"max\"] = 0.0\n",
    "for index, row in df2.iterrows():\n",
    "    filter_series.append(get_switch_filter_val(start_date, end_date, row[\"switchId\"], row[\"amt\"]))\n",
    "df2[\"max\"] = filter_series"
   ]
  },
  {
   "cell_type": "code",
   "execution_count": 136,
   "metadata": {},
   "outputs": [
    {
     "output_type": "execute_result",
     "data": {
      "text/plain": "     switchId      amt    max\n0         101  350.077   3.34\n1         104    1.475   4.18\n2         105    1.475   4.18\n3         106    2.252  54.34\n4         107    2.251  54.34\n..        ...      ...    ...\n129       410    1.187   6.13\n130       411    8.881   4.04\n131       412    8.881   4.04\n132       413  132.290   3.97\n133       414  132.287   3.97\n\n[134 rows x 3 columns]",
      "text/html": "<div>\n<style scoped>\n    .dataframe tbody tr th:only-of-type {\n        vertical-align: middle;\n    }\n\n    .dataframe tbody tr th {\n        vertical-align: top;\n    }\n\n    .dataframe thead th {\n        text-align: right;\n    }\n</style>\n<table border=\"1\" class=\"dataframe\">\n  <thead>\n    <tr style=\"text-align: right;\">\n      <th></th>\n      <th>switchId</th>\n      <th>amt</th>\n      <th>max</th>\n    </tr>\n  </thead>\n  <tbody>\n    <tr>\n      <th>0</th>\n      <td>101</td>\n      <td>350.077</td>\n      <td>3.34</td>\n    </tr>\n    <tr>\n      <th>1</th>\n      <td>104</td>\n      <td>1.475</td>\n      <td>4.18</td>\n    </tr>\n    <tr>\n      <th>2</th>\n      <td>105</td>\n      <td>1.475</td>\n      <td>4.18</td>\n    </tr>\n    <tr>\n      <th>3</th>\n      <td>106</td>\n      <td>2.252</td>\n      <td>54.34</td>\n    </tr>\n    <tr>\n      <th>4</th>\n      <td>107</td>\n      <td>2.251</td>\n      <td>54.34</td>\n    </tr>\n    <tr>\n      <th>...</th>\n      <td>...</td>\n      <td>...</td>\n      <td>...</td>\n    </tr>\n    <tr>\n      <th>129</th>\n      <td>410</td>\n      <td>1.187</td>\n      <td>6.13</td>\n    </tr>\n    <tr>\n      <th>130</th>\n      <td>411</td>\n      <td>8.881</td>\n      <td>4.04</td>\n    </tr>\n    <tr>\n      <th>131</th>\n      <td>412</td>\n      <td>8.881</td>\n      <td>4.04</td>\n    </tr>\n    <tr>\n      <th>132</th>\n      <td>413</td>\n      <td>132.290</td>\n      <td>3.97</td>\n    </tr>\n    <tr>\n      <th>133</th>\n      <td>414</td>\n      <td>132.287</td>\n      <td>3.97</td>\n    </tr>\n  </tbody>\n</table>\n<p>134 rows × 3 columns</p>\n</div>"
     },
     "metadata": {},
     "execution_count": 136
    }
   ],
   "source": [
    "\n",
    "df2 = df1\n",
    "df2['max'] = df2.apply(lambda row: get_switch_filter_val(start_date, end_date, row[\"switchId\"], row[\"amt\"]), axis=1)\n",
    "df2"
   ]
  },
  {
   "cell_type": "code",
   "execution_count": 131,
   "metadata": {},
   "outputs": [
    {
     "output_type": "stream",
     "name": "stdout",
     "text": "7.55 s ± 130 ms per loop (mean ± std. dev. of 7 runs, 1 loop each)\n"
    }
   ],
   "source": [
    "%%timeit\n",
    "df3 = df2\n",
    "df3[\"d1\"] = 0.0\n",
    "df3[\"avg\"] = 0.0\n",
    "df3[\"d0\"] = 0.0\n",
    "df3[\"min\"] = 0.0\n",
    "\n",
    "for ind in df3.index:\n",
    "    df3[\"avg\"][ind] = get_avg(start_date, end_date, df3[\"switchId\"][ind], df3[\"max\"][ind])\n",
    "    df3[\"min\"][ind] = get_min(start_date, end_date, df3[\"switchId\"][ind], df3[\"max\"][ind])\n",
    "    df3[\"d0\"][ind] = get_d0(start_date,end_date, df3[\"switchId\"][ind], df3[\"avg\"][ind])\n",
    "    df3[\"d1\"][ind] = get_d1(start_date,end_date, df3[\"switchId\"][ind], df3[\"avg\"][ind], df3[\"max\"][ind])\n",
    "\n",
    "pd.set_option('precision', 5)\n",
    "df3 "
   ]
  },
  {
   "cell_type": "code",
   "execution_count": 140,
   "metadata": {},
   "outputs": [
    {
     "output_type": "execute_result",
     "data": {
      "text/plain": "     switchId      amt    max      avg   min       d0       d1\n0         101  350.077   3.34  3.13461  2.08  3.12967  3.15979\n1         104    1.475   4.18  3.13592  2.08  3.12915  3.17211\n2         105    1.475   4.18  3.13663  2.08  3.12915  3.17639\n3         106    2.252  54.34  3.15494  2.09  3.13067  3.45440\n4         107    2.251  54.34  3.15494  2.09  3.13066  3.45440\n..        ...      ...    ...      ...   ...      ...      ...\n129       410    1.187   6.13  3.81547  3.06  3.07043  3.83022\n130       411    8.881   4.04  3.81822  3.06  3.06590  3.83063\n131       412    8.881   4.04  3.81822  3.06  3.06590  3.83063\n132       413  132.290   3.97  3.81095  1.53  3.06299  3.82959\n133       414  132.287   3.97  3.81092  1.53  3.06299  3.82959\n\n[134 rows x 7 columns]",
      "text/html": "<div>\n<style scoped>\n    .dataframe tbody tr th:only-of-type {\n        vertical-align: middle;\n    }\n\n    .dataframe tbody tr th {\n        vertical-align: top;\n    }\n\n    .dataframe thead th {\n        text-align: right;\n    }\n</style>\n<table border=\"1\" class=\"dataframe\">\n  <thead>\n    <tr style=\"text-align: right;\">\n      <th></th>\n      <th>switchId</th>\n      <th>amt</th>\n      <th>max</th>\n      <th>avg</th>\n      <th>min</th>\n      <th>d0</th>\n      <th>d1</th>\n    </tr>\n  </thead>\n  <tbody>\n    <tr>\n      <th>0</th>\n      <td>101</td>\n      <td>350.077</td>\n      <td>3.34</td>\n      <td>3.13461</td>\n      <td>2.08</td>\n      <td>3.12967</td>\n      <td>3.15979</td>\n    </tr>\n    <tr>\n      <th>1</th>\n      <td>104</td>\n      <td>1.475</td>\n      <td>4.18</td>\n      <td>3.13592</td>\n      <td>2.08</td>\n      <td>3.12915</td>\n      <td>3.17211</td>\n    </tr>\n    <tr>\n      <th>2</th>\n      <td>105</td>\n      <td>1.475</td>\n      <td>4.18</td>\n      <td>3.13663</td>\n      <td>2.08</td>\n      <td>3.12915</td>\n      <td>3.17639</td>\n    </tr>\n    <tr>\n      <th>3</th>\n      <td>106</td>\n      <td>2.252</td>\n      <td>54.34</td>\n      <td>3.15494</td>\n      <td>2.09</td>\n      <td>3.13067</td>\n      <td>3.45440</td>\n    </tr>\n    <tr>\n      <th>4</th>\n      <td>107</td>\n      <td>2.251</td>\n      <td>54.34</td>\n      <td>3.15494</td>\n      <td>2.09</td>\n      <td>3.13066</td>\n      <td>3.45440</td>\n    </tr>\n    <tr>\n      <th>...</th>\n      <td>...</td>\n      <td>...</td>\n      <td>...</td>\n      <td>...</td>\n      <td>...</td>\n      <td>...</td>\n      <td>...</td>\n    </tr>\n    <tr>\n      <th>129</th>\n      <td>410</td>\n      <td>1.187</td>\n      <td>6.13</td>\n      <td>3.81547</td>\n      <td>3.06</td>\n      <td>3.07043</td>\n      <td>3.83022</td>\n    </tr>\n    <tr>\n      <th>130</th>\n      <td>411</td>\n      <td>8.881</td>\n      <td>4.04</td>\n      <td>3.81822</td>\n      <td>3.06</td>\n      <td>3.06590</td>\n      <td>3.83063</td>\n    </tr>\n    <tr>\n      <th>131</th>\n      <td>412</td>\n      <td>8.881</td>\n      <td>4.04</td>\n      <td>3.81822</td>\n      <td>3.06</td>\n      <td>3.06590</td>\n      <td>3.83063</td>\n    </tr>\n    <tr>\n      <th>132</th>\n      <td>413</td>\n      <td>132.290</td>\n      <td>3.97</td>\n      <td>3.81095</td>\n      <td>1.53</td>\n      <td>3.06299</td>\n      <td>3.82959</td>\n    </tr>\n    <tr>\n      <th>133</th>\n      <td>414</td>\n      <td>132.287</td>\n      <td>3.97</td>\n      <td>3.81092</td>\n      <td>1.53</td>\n      <td>3.06299</td>\n      <td>3.82959</td>\n    </tr>\n  </tbody>\n</table>\n<p>134 rows × 7 columns</p>\n</div>"
     },
     "metadata": {},
     "execution_count": 140
    }
   ],
   "source": [
    "\n",
    "df3 = df2\n",
    "\n",
    "\n",
    "df3[\"avg\"] = df3.apply(lambda row: get_avg(start_date, end_date, row[\"switchId\"], row[\"max\"]), axis=1)\n",
    "df3[\"min\"] = df3.apply(lambda row: get_min(start_date, end_date, row[\"switchId\"], row[\"max\"]), axis=1)\n",
    "df3[\"d0\"] = df3.apply(lambda row: get_d0(start_date,end_date, row[\"switchId\"], row[\"avg\"]), axis=1)\n",
    "df3[\"d1\"] = df3.apply(lambda row: get_d1(start_date,end_date, row[\"switchId\"], row[\"avg\"], row[\"max\"]), axis=1)\n",
    "\n",
    "\n",
    "df3 "
   ]
  },
  {
   "cell_type": "code",
   "execution_count": null,
   "metadata": {},
   "outputs": [],
   "source": [
    "df3 = df2\n",
    "\n",
    "\n",
    "df3[\"avg\"] = df3.apply(lambda row: get_avg(start_date, end_date, row[\"switchId\"], row[\"max\"]), axis=1)\n",
    "df3[\"min\"] = df3.apply(lambda row: get_min(start_date, end_date, row[\"switchId\"], row[\"max\"]), axis=1)\n",
    "df3[\"d0\"] = df3.apply(lambda row: get_d0(start_date,end_date, row[\"switchId\"], row[\"avg\"]), axis=1)\n",
    "df3[\"d1\"] = df3.apply(lambda row: get_d1(start_date,end_date, row[\"switchId\"], row[\"avg\"], row[\"max\"]), axis=1)\n",
    "\n",
    "\n",
    "df3 "
   ]
  },
  {
   "cell_type": "code",
   "execution_count": null,
   "metadata": {},
   "outputs": [],
   "source": [
    "df3 = df2\n",
    "\n",
    "\n",
    "df3[\"avg\"] = df3.apply(lambda row: get_avg(start_date, end_date, row[\"switchId\"], row[\"max\"]), axis=1)\n",
    "df3[\"min\"] = df3.apply(lambda row: get_min(start_date, end_date, row[\"switchId\"], row[\"max\"]), axis=1)\n",
    "df3[\"d0\"] = df3.apply(lambda row: get_d0(start_date,end_date, row[\"switchId\"], row[\"avg\"]), axis=1)\n",
    "df3[\"d1\"] = df3.apply(lambda row: get_d1(start_date,end_date, row[\"switchId\"], row[\"avg\"], row[\"max\"]), axis=1)\n",
    "\n",
    "\n",
    "df3 "
   ]
  },
  {
   "cell_type": "code",
   "execution_count": 69,
   "metadata": {},
   "outputs": [],
   "source": [
    "Lof = df3['min'].tolist()\n",
    "d0 = df3['d0'].tolist()\n",
    "avg = df3['avg'].tolist()\n",
    "d1 = df3['d1'].tolist()\n",
    "Uof = df3['max'].tolist()"
   ]
  },
  {
   "cell_type": "code",
   "execution_count": 70,
   "metadata": {},
   "outputs": [
    {
     "output_type": "execute_result",
     "data": {
      "text/plain": "54.34000015258789"
     },
     "metadata": {},
     "execution_count": 70
    }
   ],
   "source": [
    "df3['max'][3]"
   ]
  },
  {
   "cell_type": "code",
   "execution_count": 97,
   "metadata": {},
   "outputs": [
    {
     "output_type": "display_data",
     "data": {
      "application/vnd.plotly.v1+json": {
       "config": {
        "plotlyServerURL": "https://plot.ly"
       },
       "data": [
        {
         "median": [
          3.134611961626551
         ],
         "q1": [
          3.129673724588786
         ],
         "q3": [
          3.159785304306798
         ],
         "type": "box",
         "x": [
          101
         ],
         "y": [
          1,
          2,
          3,
          4,
          5,
          6,
          7,
          8,
          9
         ]
        },
        {
         "median": [
          3.135920000658987
         ],
         "q1": [
          3.1291540224258214
         ],
         "q3": [
          3.172112151466567
         ],
         "type": "box",
         "x": [
          104
         ],
         "y": [
          1,
          2,
          3,
          4,
          5,
          6,
          7,
          8,
          9
         ]
        },
        {
         "median": [
          3.1366260427240604
         ],
         "q1": [
          3.129153340093551
         ],
         "q3": [
          3.1763949322598175
         ],
         "type": "box",
         "x": [
          105
         ],
         "y": [
          1,
          2,
          3,
          4,
          5,
          6,
          7,
          8,
          9
         ]
        },
        {
         "median": [
          3.1549354013402993
         ],
         "q1": [
          3.1306658151123297
         ],
         "q3": [
          3.4544047599747065
         ],
         "type": "box",
         "x": [
          106
         ],
         "y": [
          1,
          2,
          3,
          4,
          5,
          6,
          7,
          8,
          9
         ]
        },
        {
         "median": [
          3.1549420688833507
         ],
         "q1": [
          3.130661310146214
         ],
         "q3": [
          3.4544047599747065
         ],
         "type": "box",
         "x": [
          107
         ],
         "y": [
          1,
          2,
          3,
          4,
          5,
          6,
          7,
          8,
          9
         ]
        },
        {
         "median": [
          3.3918076175292704
         ],
         "q1": [
          3.134857929713353
         ],
         "q3": [
          30.499999682108562
         ],
         "type": "box",
         "x": [
          108
         ],
         "y": [
          1,
          2,
          3,
          4,
          5,
          6,
          7,
          8,
          9
         ]
        },
        {
         "median": [
          3.3918076175292704
         ],
         "q1": [
          3.134857929713353
         ],
         "q3": [
          30.499999682108562
         ],
         "type": "box",
         "x": [
          109
         ],
         "y": [
          1,
          2,
          3,
          4,
          5,
          6,
          7,
          8,
          9
         ]
        },
        {
         "median": [
          3.8532445145613208
         ],
         "q1": [
          3.4833806963129477
         ],
         "q3": [
          4.47026851467235
         ],
         "type": "box",
         "x": [
          110
         ],
         "y": [
          1,
          2,
          3,
          4,
          5,
          6,
          7,
          8,
          9
         ]
        },
        {
         "median": [
          3.8532445145613208
         ],
         "q1": [
          3.4833806963129477
         ],
         "q3": [
          4.47026851467235
         ],
         "type": "box",
         "x": [
          111
         ],
         "y": [
          1,
          2,
          3,
          4,
          5,
          6,
          7,
          8,
          9
         ]
        },
        {
         "median": [
          3.951256558162136
         ],
         "q1": [
          3.4952902271255764
         ],
         "q3": [
          4.179604089282636
         ],
         "type": "box",
         "x": [
          112
         ],
         "y": [
          1,
          2,
          3,
          4,
          5,
          6,
          7,
          8,
          9
         ]
        },
        {
         "median": [
          3.9546945517970222
         ],
         "q1": [
          3.495776143543577
         ],
         "q3": [
          4.180277550903083
         ],
         "type": "box",
         "x": [
          113
         ],
         "y": [
          1,
          2,
          3,
          4,
          5,
          6,
          7,
          8,
          9
         ]
        },
        {
         "median": [
          3.9595892170278595
         ],
         "q1": [
          3.486528201579576
         ],
         "q3": [
          4.246490648712451
         ],
         "type": "box",
         "x": [
          114
         ],
         "y": [
          1,
          2,
          3,
          4,
          5,
          6,
          7,
          8,
          9
         ]
        },
        {
         "median": [
          3.9577706959641095
         ],
         "q1": [
          3.486483312308905
         ],
         "q3": [
          4.2467891035309755
         ],
         "type": "box",
         "x": [
          115
         ],
         "y": [
          1,
          2,
          3,
          4,
          5,
          6,
          7,
          8,
          9
         ]
        },
        {
         "median": [
          3.8558399889043837
         ],
         "q1": [
          3.4855948394298815
         ],
         "q3": [
          4.1770368747639015
         ],
         "type": "box",
         "x": [
          116
         ],
         "y": [
          1,
          2,
          3,
          4,
          5,
          6,
          7,
          8,
          9
         ]
        },
        {
         "median": [
          3.773913097111984
         ],
         "q1": [
          3.5505669924388408
         ],
         "q3": [
          4.35848604566869
         ],
         "type": "box",
         "x": [
          117
         ],
         "y": [
          1,
          2,
          3,
          4,
          5,
          6,
          7,
          8,
          9
         ]
        },
        {
         "median": [
          3.776895592546979
         ],
         "q1": [
          3.5273867379408124
         ],
         "q3": [
          4.188905043108139
         ],
         "type": "box",
         "x": [
          118
         ],
         "y": [
          1,
          2,
          3,
          4,
          5,
          6,
          7,
          8,
          9
         ]
        },
        {
         "median": [
          4.436278672943824
         ],
         "q1": [
          3.7333470005147595
         ],
         "q3": [
          4.895005676064518
         ],
         "type": "box",
         "x": [
          119
         ],
         "y": [
          1,
          2,
          3,
          4,
          5,
          6,
          7,
          8,
          9
         ]
        },
        {
         "median": [
          3.7515008602017046
         ],
         "q1": [
          3.505067588673317
         ],
         "q3": [
          4.181986682585025
         ],
         "type": "box",
         "x": [
          124
         ],
         "y": [
          1,
          2,
          3,
          4,
          5,
          6,
          7,
          8,
          9
         ]
        },
        {
         "median": [
          3.138260438096292
         ],
         "q1": [
          3.1296589516402125
         ],
         "q3": [
          3.181095848648577
         ],
         "type": "box",
         "x": [
          125
         ],
         "y": [
          1,
          2,
          3,
          4,
          5,
          6,
          7,
          8,
          9
         ]
        },
        {
         "median": [
          0
         ],
         "q1": [
          0
         ],
         "q3": [
          0
         ],
         "type": "box",
         "x": [
          126
         ],
         "y": [
          1,
          2,
          3,
          4,
          5,
          6,
          7,
          8,
          9
         ]
        },
        {
         "median": [
          3.1363090831496345
         ],
         "q1": [
          3.1295515039154815
         ],
         "q3": [
          3.168215671502931
         ],
         "type": "box",
         "x": [
          127
         ],
         "y": [
          1,
          2,
          3,
          4,
          5,
          6,
          7,
          8,
          9
         ]
        },
        {
         "median": [
          3.133714526418539
         ],
         "q1": [
          3.1297149131327444
         ],
         "q3": [
          3.1557539826119623
         ],
         "type": "box",
         "x": [
          128
         ],
         "y": [
          1,
          2,
          3,
          4,
          5,
          6,
          7,
          8,
          9
         ]
        },
        {
         "median": [
          3.134824978491053
         ],
         "q1": [
          3.130000114440918
         ],
         "q3": [
          3.159308597128442
         ],
         "type": "box",
         "x": [
          129
         ],
         "y": [
          1,
          2,
          3,
          4,
          5,
          6,
          7,
          8,
          9
         ]
        },
        {
         "median": [
          3.263627616034154
         ],
         "q1": [
          3.1341240596462647
         ],
         "q3": [
          4.075204147658925
         ],
         "type": "box",
         "x": [
          130
         ],
         "y": [
          1,
          2,
          3,
          4,
          5,
          6,
          7,
          8,
          9
         ]
        },
        {
         "median": [
          3.681601324289629
         ],
         "q1": [
          2.5294667944083
         ],
         "q3": [
          3.7800568813845876
         ],
         "type": "box",
         "x": [
          201
         ],
         "y": [
          1,
          2,
          3,
          4,
          5,
          6,
          7,
          8,
          9
         ]
        },
        {
         "median": [
          3.4902021532564746
         ],
         "q1": [
          2.5187548391440315
         ],
         "q3": [
          3.7747951001579496
         ],
         "type": "box",
         "x": [
          202
         ],
         "y": [
          1,
          2,
          3,
          4,
          5,
          6,
          7,
          8,
          9
         ]
        },
        {
         "median": [
          3.6068245339477913
         ],
         "q1": [
          2.525133608639707
         ],
         "q3": [
          3.7773856619274775
         ],
         "type": "box",
         "x": [
          203
         ],
         "y": [
          1,
          2,
          3,
          4,
          5,
          6,
          7,
          8,
          9
         ]
        },
        {
         "median": [
          3.612315848420166
         ],
         "q1": [
          2.5493190378739885
         ],
         "q3": [
          3.765025353993195
         ],
         "type": "box",
         "x": [
          204
         ],
         "y": [
          1,
          2,
          3,
          4,
          5,
          6,
          7,
          8,
          9
         ]
        },
        {
         "median": [
          3.612315848420166
         ],
         "q1": [
          2.5493190378739885
         ],
         "q3": [
          3.765025353993195
         ],
         "type": "box",
         "x": [
          205
         ],
         "y": [
          1,
          2,
          3,
          4,
          5,
          6,
          7,
          8,
          9
         ]
        },
        {
         "median": [
          3.5998135676175402
         ],
         "q1": [
          2.5568203766931292
         ],
         "q3": [
          3.7659134064575794
         ],
         "type": "box",
         "x": [
          206
         ],
         "y": [
          1,
          2,
          3,
          4,
          5,
          6,
          7,
          8,
          9
         ]
        },
        {
         "median": [
          3.5998135676175402
         ],
         "q1": [
          2.5568203766931292
         ],
         "q3": [
          3.7659134064575794
         ],
         "type": "box",
         "x": [
          207
         ],
         "y": [
          1,
          2,
          3,
          4,
          5,
          6,
          7,
          8,
          9
         ]
        },
        {
         "median": [
          3.445649325101423
         ],
         "q1": [
          2.54176801678774
         ],
         "q3": [
          3.7652732097101995
         ],
         "type": "box",
         "x": [
          208
         ],
         "y": [
          1,
          2,
          3,
          4,
          5,
          6,
          7,
          8,
          9
         ]
        },
        {
         "median": [
          3.4454414344031092
         ],
         "q1": [
          2.5417694123041428
         ],
         "q3": [
          3.7652619849751323
         ],
         "type": "box",
         "x": [
          209
         ],
         "y": [
          1,
          2,
          3,
          4,
          5,
          6,
          7,
          8,
          9
         ]
        },
        {
         "median": [
          4.460082015229959
         ],
         "q1": [
          3.2871267207493498
         ],
         "q3": [
          5.090881859832554
         ],
         "type": "box",
         "x": [
          213
         ],
         "y": [
          1,
          2,
          3,
          4,
          5,
          6,
          7,
          8,
          9
         ]
        },
        {
         "median": [
          3.052724864350671
         ],
         "q1": [
          2.5162349878514814
         ],
         "q3": [
          3.9233542255170657
         ],
         "type": "box",
         "x": [
          214
         ],
         "y": [
          1,
          2,
          3,
          4,
          5,
          6,
          7,
          8,
          9
         ]
        },
        {
         "median": [
          3.434607305842141
         ],
         "q1": [
          2.5111201651106576
         ],
         "q3": [
          3.8570940597994072
         ],
         "type": "box",
         "x": [
          215
         ],
         "y": [
          1,
          2,
          3,
          4,
          5,
          6,
          7,
          8,
          9
         ]
        },
        {
         "median": [
          3.9419516801721715
         ],
         "q1": [
          2.9419583814813692
         ],
         "q3": [
          5.063984841257383
         ],
         "type": "box",
         "x": [
          216
         ],
         "y": [
          1,
          2,
          3,
          4,
          5,
          6,
          7,
          8,
          9
         ]
        },
        {
         "median": [
          3.3564823995724096
         ],
         "q1": [
          2.505631698510467
         ],
         "q3": [
          3.8241666682561237
         ],
         "type": "box",
         "x": [
          217
         ],
         "y": [
          1,
          2,
          3,
          4,
          5,
          6,
          7,
          8,
          9
         ]
        },
        {
         "median": [
          3.052724864350671
         ],
         "q1": [
          2.5162349878514814
         ],
         "q3": [
          3.9233542255170657
         ],
         "type": "box",
         "x": [
          218
         ],
         "y": [
          1,
          2,
          3,
          4,
          5,
          6,
          7,
          8,
          9
         ]
        },
        {
         "median": [
          4.179031643692689
         ],
         "q1": [
          3.209721186584514
         ],
         "q3": [
          5.090414473116671
         ],
         "type": "box",
         "x": [
          220
         ],
         "y": [
          1,
          2,
          3,
          4,
          5,
          6,
          7,
          8,
          9
         ]
        },
        {
         "median": [
          3.1389204752302073
         ],
         "q1": [
          3.1296175119713485
         ],
         "q3": [
          3.1741730563873816
         ],
         "type": "box",
         "x": [
          221
         ],
         "y": [
          1,
          2,
          3,
          4,
          5,
          6,
          7,
          8,
          9
         ]
        },
        {
         "median": [
          3.1492207681622797
         ],
         "q1": [
          3.1303430934371943
         ],
         "q3": [
          3.2193568281178337
         ],
         "type": "box",
         "x": [
          222
         ],
         "y": [
          1,
          2,
          3,
          4,
          5,
          6,
          7,
          8,
          9
         ]
        },
        {
         "median": [
          3.146176998854408
         ],
         "q1": [
          3.130823179878183
         ],
         "q3": [
          3.215692239743407
         ],
         "type": "box",
         "x": [
          223
         ],
         "y": [
          1,
          2,
          3,
          4,
          5,
          6,
          7,
          8,
          9
         ]
        },
        {
         "median": [
          3.8169550431994517
         ],
         "q1": [
          3.179598218092369
         ],
         "q3": [
          4.926705750444725
         ],
         "type": "box",
         "x": [
          224
         ],
         "y": [
          1,
          2,
          3,
          4,
          5,
          6,
          7,
          8,
          9
         ]
        },
        {
         "median": [
          3.1399078185258134
         ],
         "q1": [
          3.130000114440918
         ],
         "q3": [
          3.180100071430206
         ],
         "type": "box",
         "x": [
          225
         ],
         "y": [
          1,
          2,
          3,
          4,
          5,
          6,
          7,
          8,
          9
         ]
        },
        {
         "median": [
          3.142480184120011
         ],
         "q1": [
          3.1312962025903457
         ],
         "q3": [
          3.234311959065429
         ],
         "type": "box",
         "x": [
          226
         ],
         "y": [
          1,
          2,
          3,
          4,
          5,
          6,
          7,
          8,
          9
         ]
        },
        {
         "median": [
          3.1399078185258134
         ],
         "q1": [
          3.130000114440918
         ],
         "q3": [
          3.180100071430206
         ],
         "type": "box",
         "x": [
          227
         ],
         "y": [
          1,
          2,
          3,
          4,
          5,
          6,
          7,
          8,
          9
         ]
        },
        {
         "median": [
          4.808488949469185
         ],
         "q1": [
          4.005699831083126
         ],
         "q3": [
          5.233857263023838
         ],
         "type": "box",
         "x": [
          234
         ],
         "y": [
          1,
          2,
          3,
          4,
          5,
          6,
          7,
          8,
          9
         ]
        },
        {
         "median": [
          3.135324336544043
         ],
         "q1": [
          3.1155759341674547
         ],
         "q3": [
          3.2016913388932844
         ],
         "type": "box",
         "x": [
          235
         ],
         "y": [
          1,
          2,
          3,
          4,
          5,
          6,
          7,
          8,
          9
         ]
        },
        {
         "median": [
          3.6211834250347077
         ],
         "q1": [
          3.618337641344146
         ],
         "q3": [
          3.7131428922925678
         ],
         "type": "box",
         "x": [
          238
         ],
         "y": [
          1,
          2,
          3,
          4,
          5,
          6,
          7,
          8,
          9
         ]
        },
        {
         "median": [
          3.6211834250347077
         ],
         "q1": [
          3.618337641344146
         ],
         "q3": [
          3.7131428922925678
         ],
         "type": "box",
         "x": [
          239
         ],
         "y": [
          1,
          2,
          3,
          4,
          5,
          6,
          7,
          8,
          9
         ]
        },
        {
         "median": [
          3.6210282316092055
         ],
         "q1": [
          3.6176921948541367
         ],
         "q3": [
          3.7233333587646484
         ],
         "type": "box",
         "x": [
          240
         ],
         "y": [
          1,
          2,
          3,
          4,
          5,
          6,
          7,
          8,
          9
         ]
        },
        {
         "median": [
          3.620973127408426
         ],
         "q1": [
          3.6176902637322077
         ],
         "q3": [
          3.724210550910548
         ],
         "type": "box",
         "x": [
          241
         ],
         "y": [
          1,
          2,
          3,
          4,
          5,
          6,
          7,
          8,
          9
         ]
        },
        {
         "median": [
          3.6225444899789814
         ],
         "q1": [
          3.6183094026818847
         ],
         "q3": [
          3.74166670032576
         ],
         "type": "box",
         "x": [
          242
         ],
         "y": [
          1,
          2,
          3,
          4,
          5,
          6,
          7,
          8,
          9
         ]
        },
        {
         "median": [
          3.6223674706433022
         ],
         "q1": [
          3.6179771311816613
         ],
         "q3": [
          3.709916004613668
         ],
         "type": "box",
         "x": [
          243
         ],
         "y": [
          1,
          2,
          3,
          4,
          5,
          6,
          7,
          8,
          9
         ]
        },
        {
         "median": [
          3.6223674706433022
         ],
         "q1": [
          3.6179771311816613
         ],
         "q3": [
          3.709916004613668
         ],
         "type": "box",
         "x": [
          244
         ],
         "y": [
          1,
          2,
          3,
          4,
          5,
          6,
          7,
          8,
          9
         ]
        },
        {
         "median": [
          3.623489344543363
         ],
         "q1": [
          3.617937863197368
         ],
         "q3": [
          3.720666703723726
         ],
         "type": "box",
         "x": [
          245
         ],
         "y": [
          1,
          2,
          3,
          4,
          5,
          6,
          7,
          8,
          9
         ]
        },
        {
         "median": [
          3.623489344543363
         ],
         "q1": [
          3.617937863197368
         ],
         "q3": [
          3.720666703723726
         ],
         "type": "box",
         "x": [
          246
         ],
         "y": [
          1,
          2,
          3,
          4,
          5,
          6,
          7,
          8,
          9
         ]
        },
        {
         "median": [
          3.6224941085338322
         ],
         "q1": [
          3.6179651669099466
         ],
         "q3": [
          3.712840599429323
         ],
         "type": "box",
         "x": [
          247
         ],
         "y": [
          1,
          2,
          3,
          4,
          5,
          6,
          7,
          8,
          9
         ]
        },
        {
         "median": [
          3.622494354604628
         ],
         "q1": [
          3.617965156791392
         ],
         "q3": [
          3.7128381224157443
         ],
         "type": "box",
         "x": [
          248
         ],
         "y": [
          1,
          2,
          3,
          4,
          5,
          6,
          7,
          8,
          9
         ]
        },
        {
         "median": [
          3.6220768588197396
         ],
         "q1": [
          3.617838727314569
         ],
         "q3": [
          3.7151853478871857
         ],
         "type": "box",
         "x": [
          249
         ],
         "y": [
          1,
          2,
          3,
          4,
          5,
          6,
          7,
          8,
          9
         ]
        },
        {
         "median": [
          3.622076979426459
         ],
         "q1": [
          3.617838920861729
         ],
         "q3": [
          3.7151853478871857
         ],
         "type": "box",
         "x": [
          250
         ],
         "y": [
          1,
          2,
          3,
          4,
          5,
          6,
          7,
          8,
          9
         ]
        },
        {
         "median": [
          3.4668864903432546
         ],
         "q1": [
          2.4873280882132778
         ],
         "q3": [
          4.583561130173396
         ],
         "type": "box",
         "x": [
          251
         ],
         "y": [
          1,
          2,
          3,
          4,
          5,
          6,
          7,
          8,
          9
         ]
        },
        {
         "median": [
          3.4465601056345245
         ],
         "q1": [
          2.5287337384143975
         ],
         "q3": [
          3.8066659995609715
         ],
         "type": "box",
         "x": [
          253
         ],
         "y": [
          1,
          2,
          3,
          4,
          5,
          6,
          7,
          8,
          9
         ]
        },
        {
         "median": [
          3.140744333087735
         ],
         "q1": [
          3.130350343422956
         ],
         "q3": [
          3.2750000329244706
         ],
         "type": "box",
         "x": [
          254
         ],
         "y": [
          1,
          2,
          3,
          4,
          5,
          6,
          7,
          8,
          9
         ]
        },
        {
         "median": [
          3.4973284610529976
         ],
         "q1": [
          3.4790090301674073
         ],
         "q3": [
          3.571323457776126
         ],
         "type": "box",
         "x": [
          301
         ],
         "y": [
          1,
          2,
          3,
          4,
          5,
          6,
          7,
          8,
          9
         ]
        },
        {
         "median": [
          3.497308016035536
         ],
         "q1": [
          3.478984305915488
         ],
         "q3": [
          3.571323457776126
         ],
         "type": "box",
         "x": [
          302
         ],
         "y": [
          1,
          2,
          3,
          4,
          5,
          6,
          7,
          8,
          9
         ]
        },
        {
         "median": [
          3.499025887002555
         ],
         "q1": [
          3.478770846139729
         ],
         "q3": [
          3.572001891507988
         ],
         "type": "box",
         "x": [
          303
         ],
         "y": [
          1,
          2,
          3,
          4,
          5,
          6,
          7,
          8,
          9
         ]
        },
        {
         "median": [
          3.499025598325056
         ],
         "q1": [
          3.47877086996622
         ],
         "q3": [
          3.572001891507988
         ],
         "type": "box",
         "x": [
          304
         ],
         "y": [
          1,
          2,
          3,
          4,
          5,
          6,
          7,
          8,
          9
         ]
        },
        {
         "median": [
          3.4980804046394436
         ],
         "q1": [
          3.4781782488599715
         ],
         "q3": [
          3.5738432005535707
         ],
         "type": "box",
         "x": [
          305
         ],
         "y": [
          1,
          2,
          3,
          4,
          5,
          6,
          7,
          8,
          9
         ]
        },
        {
         "median": [
          3.4980804046394436
         ],
         "q1": [
          3.4781782488599715
         ],
         "q3": [
          3.5738432005535707
         ],
         "type": "box",
         "x": [
          306
         ],
         "y": [
          1,
          2,
          3,
          4,
          5,
          6,
          7,
          8,
          9
         ]
        },
        {
         "median": [
          2.85305731519448
         ],
         "q1": [
          1.7509367721648066
         ],
         "q3": [
          3.4980806342721253
         ],
         "type": "box",
         "x": [
          307
         ],
         "y": [
          1,
          2,
          3,
          4,
          5,
          6,
          7,
          8,
          9
         ]
        },
        {
         "median": [
          3.44515823100461
         ],
         "q1": [
          1.7436893275640544
         ],
         "q3": [
          3.4971153306353173
         ],
         "type": "box",
         "x": [
          308
         ],
         "y": [
          1,
          2,
          3,
          4,
          5,
          6,
          7,
          8,
          9
         ]
        },
        {
         "median": [
          3.46873090466097
         ],
         "q1": [
          1.7531861819598589
         ],
         "q3": [
          3.5070798470614197
         ],
         "type": "box",
         "x": [
          309
         ],
         "y": [
          1,
          2,
          3,
          4,
          5,
          6,
          7,
          8,
          9
         ]
        },
        {
         "median": [
          3.5953540668096107
         ],
         "q1": [
          3.490479046075476
         ],
         "q3": [
          4.32630488070398
         ],
         "type": "box",
         "x": [
          310
         ],
         "y": [
          1,
          2,
          3,
          4,
          5,
          6,
          7,
          8,
          9
         ]
        },
        {
         "median": [
          3.5202968139539044
         ],
         "q1": [
          3.478440138790278
         ],
         "q3": [
          3.6638686253691994
         ],
         "type": "box",
         "x": [
          311
         ],
         "y": [
          1,
          2,
          3,
          4,
          5,
          6,
          7,
          8,
          9
         ]
        },
        {
         "median": [
          3.520221431358133
         ],
         "q1": [
          3.478440391771187
         ],
         "q3": [
          3.663557052700739
         ],
         "type": "box",
         "x": [
          312
         ],
         "y": [
          1,
          2,
          3,
          4,
          5,
          6,
          7,
          8,
          9
         ]
        },
        {
         "median": [
          3.5006852465821705
         ],
         "q1": [
          3.478629876743309
         ],
         "q3": [
          3.5797381585805206
         ],
         "type": "box",
         "x": [
          313
         ],
         "y": [
          1,
          2,
          3,
          4,
          5,
          6,
          7,
          8,
          9
         ]
        },
        {
         "median": [
          3.5007041631139573
         ],
         "q1": [
          3.478628273768954
         ],
         "q3": [
          3.5797381585805206
         ],
         "type": "box",
         "x": [
          314
         ],
         "y": [
          1,
          2,
          3,
          4,
          5,
          6,
          7,
          8,
          9
         ]
        },
        {
         "median": [
          3.499203177886652
         ],
         "q1": [
          3.478402412024282
         ],
         "q3": [
          3.586469473377351
         ],
         "type": "box",
         "x": [
          315
         ],
         "y": [
          1,
          2,
          3,
          4,
          5,
          6,
          7,
          8,
          9
         ]
        },
        {
         "median": [
          3.499203177886652
         ],
         "q1": [
          3.478402412024282
         ],
         "q3": [
          3.586469473377351
         ],
         "type": "box",
         "x": [
          316
         ],
         "y": [
          1,
          2,
          3,
          4,
          5,
          6,
          7,
          8,
          9
         ]
        },
        {
         "median": [
          3.846855676082346
         ],
         "q1": [
          3.4990587228612697
         ],
         "q3": [
          5.245901961720018
         ],
         "type": "box",
         "x": [
          317
         ],
         "y": [
          1,
          2,
          3,
          4,
          5,
          6,
          7,
          8,
          9
         ]
        },
        {
         "median": [
          4.156995187315506
         ],
         "q1": [
          3.496430623189114
         ],
         "q3": [
          5.245780628186295
         ],
         "type": "box",
         "x": [
          318
         ],
         "y": [
          1,
          2,
          3,
          4,
          5,
          6,
          7,
          8,
          9
         ]
        },
        {
         "median": [
          4.06853934744969
         ],
         "q1": [
          3.500788909359656
         ],
         "q3": [
          5.241040389091266
         ],
         "type": "box",
         "x": [
          319
         ],
         "y": [
          1,
          2,
          3,
          4,
          5,
          6,
          7,
          8,
          9
         ]
        },
        {
         "median": [
          4.465858374724401
         ],
         "q1": [
          3.504937017709352
         ],
         "q3": [
          5.269518335839695
         ],
         "type": "box",
         "x": [
          320
         ],
         "y": [
          1,
          2,
          3,
          4,
          5,
          6,
          7,
          8,
          9
         ]
        },
        {
         "median": [
          3.177018586220968
         ],
         "q1": [
          2.507708679304287
         ],
         "q3": [
          3.761750801918181
         ],
         "type": "box",
         "x": [
          321
         ],
         "y": [
          1,
          2,
          3,
          4,
          5,
          6,
          7,
          8,
          9
         ]
        },
        {
         "median": [
          3.1753490856071456
         ],
         "q1": [
          2.5077047462129096
         ],
         "q3": [
          3.761761387259809
         ],
         "type": "box",
         "x": [
          322
         ],
         "y": [
          1,
          2,
          3,
          4,
          5,
          6,
          7,
          8,
          9
         ]
        },
        {
         "median": [
          3.0655420269843487
         ],
         "q1": [
          2.5082859418687433
         ],
         "q3": [
          3.762540850533854
         ],
         "type": "box",
         "x": [
          323
         ],
         "y": [
          1,
          2,
          3,
          4,
          5,
          6,
          7,
          8,
          9
         ]
        },
        {
         "median": [
          3.8188446991313816
         ],
         "q1": [
          2.9692778216467963
         ],
         "q3": [
          3.9341705196044026
         ],
         "type": "box",
         "x": [
          330
         ],
         "y": [
          1,
          2,
          3,
          4,
          5,
          6,
          7,
          8,
          9
         ]
        },
        {
         "median": [
          3.8188446991313816
         ],
         "q1": [
          2.9692778216467963
         ],
         "q3": [
          3.9341705196044026
         ],
         "type": "box",
         "x": [
          331
         ],
         "y": [
          1,
          2,
          3,
          4,
          5,
          6,
          7,
          8,
          9
         ]
        },
        {
         "median": [
          3.7894885406026924
         ],
         "q1": [
          3.0293363079560542
         ],
         "q3": [
          3.937332262270627
         ],
         "type": "box",
         "x": [
          332
         ],
         "y": [
          1,
          2,
          3,
          4,
          5,
          6,
          7,
          8,
          9
         ]
        },
        {
         "median": [
          3.7894885406026924
         ],
         "q1": [
          3.0293363079560542
         ],
         "q3": [
          3.937332262270627
         ],
         "type": "box",
         "x": [
          333
         ],
         "y": [
          1,
          2,
          3,
          4,
          5,
          6,
          7,
          8,
          9
         ]
        },
        {
         "median": [
          3.2474047636850423
         ],
         "q1": [
          2.9557643434687004
         ],
         "q3": [
          3.9121277427419705
         ],
         "type": "box",
         "x": [
          334
         ],
         "y": [
          1,
          2,
          3,
          4,
          5,
          6,
          7,
          8,
          9
         ]
        },
        {
         "median": [
          3.2474047636850423
         ],
         "q1": [
          2.9557643434687004
         ],
         "q3": [
          3.9121277427419705
         ],
         "type": "box",
         "x": [
          335
         ],
         "y": [
          1,
          2,
          3,
          4,
          5,
          6,
          7,
          8,
          9
         ]
        },
        {
         "median": [
          3.9808599349040135
         ],
         "q1": [
          3.260228074334732
         ],
         "q3": [
          35.58571439129965
         ],
         "type": "box",
         "x": [
          336
         ],
         "y": [
          1,
          2,
          3,
          4,
          5,
          6,
          7,
          8,
          9
         ]
        },
        {
         "median": [
          3.980079680301581
         ],
         "q1": [
          3.260179068617359
         ],
         "q3": [
          36.74888900474266
         ],
         "type": "box",
         "x": [
          337
         ],
         "y": [
          1,
          2,
          3,
          4,
          5,
          6,
          7,
          8,
          9
         ]
        },
        {
         "median": [
          3.641170418320521
         ],
         "q1": [
          2.5106900041050793
         ],
         "q3": [
          3.7665480758135597
         ],
         "type": "box",
         "x": [
          338
         ],
         "y": [
          1,
          2,
          3,
          4,
          5,
          6,
          7,
          8,
          9
         ]
        },
        {
         "median": [
          3.5744289492321326
         ],
         "q1": [
          2.510725393768713
         ],
         "q3": [
          3.76531507684178
         ],
         "type": "box",
         "x": [
          339
         ],
         "y": [
          1,
          2,
          3,
          4,
          5,
          6,
          7,
          8,
          9
         ]
        },
        {
         "median": [
          3.085798956930807
         ],
         "q1": [
          1.749287036169101
         ],
         "q3": [
          3.500682406574201
         ],
         "type": "box",
         "x": [
          340
         ],
         "y": [
          1,
          2,
          3,
          4,
          5,
          6,
          7,
          8,
          9
         ]
        },
        {
         "median": [
          3.5441566418910373
         ],
         "q1": [
          3.4806471665509555
         ],
         "q3": [
          3.757923995479179
         ],
         "type": "box",
         "x": [
          341
         ],
         "y": [
          1,
          2,
          3,
          4,
          5,
          6,
          7,
          8,
          9
         ]
        },
        {
         "median": [
          3.2691181337883517
         ],
         "q1": [
          2.95323085248466
         ],
         "q3": [
          3.9037961423695497
         ],
         "type": "box",
         "x": [
          342
         ],
         "y": [
          1,
          2,
          3,
          4,
          5,
          6,
          7,
          8,
          9
         ]
        },
        {
         "median": [
          3.2691023792989133
         ],
         "q1": [
          2.953230052398557
         ],
         "q3": [
          3.903796326009413
         ],
         "type": "box",
         "x": [
          343
         ],
         "y": [
          1,
          2,
          3,
          4,
          5,
          6,
          7,
          8,
          9
         ]
        },
        {
         "median": [
          3.375014509350726
         ],
         "q1": [
          2.9612472584647684
         ],
         "q3": [
          3.903233462536288
         ],
         "type": "box",
         "x": [
          344
         ],
         "y": [
          1,
          2,
          3,
          4,
          5,
          6,
          7,
          8,
          9
         ]
        },
        {
         "median": [
          3.375040409739301
         ],
         "q1": [
          2.9612486624965677
         ],
         "q3": [
          3.903230997758684
         ],
         "type": "box",
         "x": [
          345
         ],
         "y": [
          1,
          2,
          3,
          4,
          5,
          6,
          7,
          8,
          9
         ]
        },
        {
         "median": [
          3.3395477970572607
         ],
         "q1": [
          2.509016625581667
         ],
         "q3": [
          3.763516197598198
         ],
         "type": "box",
         "x": [
          346
         ],
         "y": [
          1,
          2,
          3,
          4,
          5,
          6,
          7,
          8,
          9
         ]
        },
        {
         "median": [
          2.8002525373445204
         ],
         "q1": [
          2.509121250392294
         ],
         "q3": [
          3.7629707703342685
         ],
         "type": "box",
         "x": [
          347
         ],
         "y": [
          1,
          2,
          3,
          4,
          5,
          6,
          7,
          8,
          9
         ]
        },
        {
         "median": [
          3.7268455789369694
         ],
         "q1": [
          2.507560968399048
         ],
         "q3": [
          3.7647460103486865
         ],
         "type": "box",
         "x": [
          348
         ],
         "y": [
          1,
          2,
          3,
          4,
          5,
          6,
          7,
          8,
          9
         ]
        },
        {
         "median": [
          2.981554155488025
         ],
         "q1": [
          2.508442631219617
         ],
         "q3": [
          3.7610522232677783
         ],
         "type": "box",
         "x": [
          349
         ],
         "y": [
          1,
          2,
          3,
          4,
          5,
          6,
          7,
          8,
          9
         ]
        },
        {
         "median": [
          3.0576073259647147
         ],
         "q1": [
          2.5087896948720254
         ],
         "q3": [
          3.761762105945974
         ],
         "type": "box",
         "x": [
          350
         ],
         "y": [
          1,
          2,
          3,
          4,
          5,
          6,
          7,
          8,
          9
         ]
        },
        {
         "median": [
          3.149515570657133
         ],
         "q1": [
          2.5083123545206893
         ],
         "q3": [
          3.761560220294366
         ],
         "type": "box",
         "x": [
          351
         ],
         "y": [
          1,
          2,
          3,
          4,
          5,
          6,
          7,
          8,
          9
         ]
        },
        {
         "median": [
          3.6378181736686015
         ],
         "q1": [
          2.5210370311030634
         ],
         "q3": [
          3.759403217415656
         ],
         "type": "box",
         "x": [
          352
         ],
         "y": [
          1,
          2,
          3,
          4,
          5,
          6,
          7,
          8,
          9
         ]
        },
        {
         "median": [
          3.641425446423617
         ],
         "q1": [
          2.522213733833255
         ],
         "q3": [
          3.759284557636911
         ],
         "type": "box",
         "x": [
          353
         ],
         "y": [
          1,
          2,
          3,
          4,
          5,
          6,
          7,
          8,
          9
         ]
        },
        {
         "median": [
          3.3907643408399855
         ],
         "q1": [
          2.511083694635473
         ],
         "q3": [
          3.769728131216766
         ],
         "type": "box",
         "x": [
          354
         ],
         "y": [
          1,
          2,
          3,
          4,
          5,
          6,
          7,
          8,
          9
         ]
        },
        {
         "median": [
          3.6668206650135735
         ],
         "q1": [
          2.5116995801386834
         ],
         "q3": [
          3.768166677256053
         ],
         "type": "box",
         "x": [
          355
         ],
         "y": [
          1,
          2,
          3,
          4,
          5,
          6,
          7,
          8,
          9
         ]
        },
        {
         "median": [
          3.6202336871952134
         ],
         "q1": [
          2.512360992977256
         ],
         "q3": [
          3.763673438214982
         ],
         "type": "box",
         "x": [
          356
         ],
         "y": [
          1,
          2,
          3,
          4,
          5,
          6,
          7,
          8,
          9
         ]
        },
        {
         "median": [
          3.6203500736713323
         ],
         "q1": [
          2.51237096151998
         ],
         "q3": [
          3.7636730550053272
         ],
         "type": "box",
         "x": [
          357
         ],
         "y": [
          1,
          2,
          3,
          4,
          5,
          6,
          7,
          8,
          9
         ]
        },
        {
         "median": [
          3.515174580697058
         ],
         "q1": [
          3.478728224986639
         ],
         "q3": [
          3.6761494247181634
         ],
         "type": "box",
         "x": [
          358
         ],
         "y": [
          1,
          2,
          3,
          4,
          5,
          6,
          7,
          8,
          9
         ]
        },
        {
         "median": [
          3.515174580697058
         ],
         "q1": [
          3.478728224986639
         ],
         "q3": [
          3.6761494247181634
         ],
         "type": "box",
         "x": [
          359
         ],
         "y": [
          1,
          2,
          3,
          4,
          5,
          6,
          7,
          8,
          9
         ]
        },
        {
         "median": [
          3.6277361749080903
         ],
         "q1": [
          3.4936005260336955
         ],
         "q3": [
          10.998809451148624
         ],
         "type": "box",
         "x": [
          360
         ],
         "y": [
          1,
          2,
          3,
          4,
          5,
          6,
          7,
          8,
          9
         ]
        },
        {
         "median": [
          3.6554062149464857
         ],
         "q1": [
          3.4936005260336955
         ],
         "q3": [
          12.340232494265534
         ],
         "type": "box",
         "x": [
          361
         ],
         "y": [
          1,
          2,
          3,
          4,
          5,
          6,
          7,
          8,
          9
         ]
        },
        {
         "median": [
          3.697094818943049
         ],
         "q1": [
          3.1381447608865782
         ],
         "q3": [
          3.7585242706319923
         ],
         "type": "box",
         "x": [
          401
         ],
         "y": [
          1,
          2,
          3,
          4,
          5,
          6,
          7,
          8,
          9
         ]
        },
        {
         "median": [
          3.697062642914944
         ],
         "q1": [
          3.1381404944400377
         ],
         "q3": [
          3.7585247616614064
         ],
         "type": "box",
         "x": [
          402
         ],
         "y": [
          1,
          2,
          3,
          4,
          5,
          6,
          7,
          8,
          9
         ]
        },
        {
         "median": [
          3.781618269723191
         ],
         "q1": [
          3.062794061268077
         ],
         "q3": [
          3.8304494846831787
         ],
         "type": "box",
         "x": [
          403
         ],
         "y": [
          1,
          2,
          3,
          4,
          5,
          6,
          7,
          8,
          9
         ]
        },
        {
         "median": [
          3.677958347396274
         ],
         "q1": [
          3.0635237534840902
         ],
         "q3": [
          3.8301178576811306
         ],
         "type": "box",
         "x": [
          404
         ],
         "y": [
          1,
          2,
          3,
          4,
          5,
          6,
          7,
          8,
          9
         ]
        },
        {
         "median": [
          3.677958347396274
         ],
         "q1": [
          3.0635237534840902
         ],
         "q3": [
          3.8301178576811306
         ],
         "type": "box",
         "x": [
          405
         ],
         "y": [
          1,
          2,
          3,
          4,
          5,
          6,
          7,
          8,
          9
         ]
        },
        {
         "median": [
          3.6846510989166967
         ],
         "q1": [
          3.0621462891741498
         ],
         "q3": [
          3.831333266729596
         ],
         "type": "box",
         "x": [
          406
         ],
         "y": [
          1,
          2,
          3,
          4,
          5,
          6,
          7,
          8,
          9
         ]
        },
        {
         "median": [
          3.678260401348735
         ],
         "q1": [
          3.062523312657793
         ],
         "q3": [
          3.831300746273081
         ],
         "type": "box",
         "x": [
          407
         ],
         "y": [
          1,
          2,
          3,
          4,
          5,
          6,
          7,
          8,
          9
         ]
        },
        {
         "median": [
          0
         ],
         "q1": [
          0
         ],
         "q3": [
          0
         ],
         "type": "box",
         "x": [
          408
         ],
         "y": [
          1,
          2,
          3,
          4,
          5,
          6,
          7,
          8,
          9
         ]
        },
        {
         "median": [
          3.8154682879709494
         ],
         "q1": [
          3.070434746534928
         ],
         "q3": [
          3.830215079238616
         ],
         "type": "box",
         "x": [
          409
         ],
         "y": [
          1,
          2,
          3,
          4,
          5,
          6,
          7,
          8,
          9
         ]
        },
        {
         "median": [
          3.8154682879709494
         ],
         "q1": [
          3.070434746534928
         ],
         "q3": [
          3.830215079238616
         ],
         "type": "box",
         "x": [
          410
         ],
         "y": [
          1,
          2,
          3,
          4,
          5,
          6,
          7,
          8,
          9
         ]
        },
        {
         "median": [
          3.8182224319580977
         ],
         "q1": [
          3.0659027298291526
         ],
         "q3": [
          3.8306346726898313
         ],
         "type": "box",
         "x": [
          411
         ],
         "y": [
          1,
          2,
          3,
          4,
          5,
          6,
          7,
          8,
          9
         ]
        },
        {
         "median": [
          3.8182224319580977
         ],
         "q1": [
          3.0659027298291526
         ],
         "q3": [
          3.8306346726898313
         ],
         "type": "box",
         "x": [
          412
         ],
         "y": [
          1,
          2,
          3,
          4,
          5,
          6,
          7,
          8,
          9
         ]
        },
        {
         "median": [
          3.810949495620709
         ],
         "q1": [
          3.062989027005462
         ],
         "q3": [
          3.829589910711429
         ],
         "type": "box",
         "x": [
          413
         ],
         "y": [
          1,
          2,
          3,
          4,
          5,
          6,
          7,
          8,
          9
         ]
        },
        {
         "median": [
          3.810920217582803
         ],
         "q1": [
          3.062990601634682
         ],
         "q3": [
          3.8295898138190565
         ],
         "type": "box",
         "x": [
          414
         ],
         "y": [
          1,
          2,
          3,
          4,
          5,
          6,
          7,
          8,
          9
         ]
        }
       ],
       "layout": {
        "template": {
         "data": {
          "bar": [
           {
            "error_x": {
             "color": "#2a3f5f"
            },
            "error_y": {
             "color": "#2a3f5f"
            },
            "marker": {
             "line": {
              "color": "#E5ECF6",
              "width": 0.5
             }
            },
            "type": "bar"
           }
          ],
          "barpolar": [
           {
            "marker": {
             "line": {
              "color": "#E5ECF6",
              "width": 0.5
             }
            },
            "type": "barpolar"
           }
          ],
          "carpet": [
           {
            "aaxis": {
             "endlinecolor": "#2a3f5f",
             "gridcolor": "white",
             "linecolor": "white",
             "minorgridcolor": "white",
             "startlinecolor": "#2a3f5f"
            },
            "baxis": {
             "endlinecolor": "#2a3f5f",
             "gridcolor": "white",
             "linecolor": "white",
             "minorgridcolor": "white",
             "startlinecolor": "#2a3f5f"
            },
            "type": "carpet"
           }
          ],
          "choropleth": [
           {
            "colorbar": {
             "outlinewidth": 0,
             "ticks": ""
            },
            "type": "choropleth"
           }
          ],
          "contour": [
           {
            "colorbar": {
             "outlinewidth": 0,
             "ticks": ""
            },
            "colorscale": [
             [
              0,
              "#0d0887"
             ],
             [
              0.1111111111111111,
              "#46039f"
             ],
             [
              0.2222222222222222,
              "#7201a8"
             ],
             [
              0.3333333333333333,
              "#9c179e"
             ],
             [
              0.4444444444444444,
              "#bd3786"
             ],
             [
              0.5555555555555556,
              "#d8576b"
             ],
             [
              0.6666666666666666,
              "#ed7953"
             ],
             [
              0.7777777777777778,
              "#fb9f3a"
             ],
             [
              0.8888888888888888,
              "#fdca26"
             ],
             [
              1,
              "#f0f921"
             ]
            ],
            "type": "contour"
           }
          ],
          "contourcarpet": [
           {
            "colorbar": {
             "outlinewidth": 0,
             "ticks": ""
            },
            "type": "contourcarpet"
           }
          ],
          "heatmap": [
           {
            "colorbar": {
             "outlinewidth": 0,
             "ticks": ""
            },
            "colorscale": [
             [
              0,
              "#0d0887"
             ],
             [
              0.1111111111111111,
              "#46039f"
             ],
             [
              0.2222222222222222,
              "#7201a8"
             ],
             [
              0.3333333333333333,
              "#9c179e"
             ],
             [
              0.4444444444444444,
              "#bd3786"
             ],
             [
              0.5555555555555556,
              "#d8576b"
             ],
             [
              0.6666666666666666,
              "#ed7953"
             ],
             [
              0.7777777777777778,
              "#fb9f3a"
             ],
             [
              0.8888888888888888,
              "#fdca26"
             ],
             [
              1,
              "#f0f921"
             ]
            ],
            "type": "heatmap"
           }
          ],
          "heatmapgl": [
           {
            "colorbar": {
             "outlinewidth": 0,
             "ticks": ""
            },
            "colorscale": [
             [
              0,
              "#0d0887"
             ],
             [
              0.1111111111111111,
              "#46039f"
             ],
             [
              0.2222222222222222,
              "#7201a8"
             ],
             [
              0.3333333333333333,
              "#9c179e"
             ],
             [
              0.4444444444444444,
              "#bd3786"
             ],
             [
              0.5555555555555556,
              "#d8576b"
             ],
             [
              0.6666666666666666,
              "#ed7953"
             ],
             [
              0.7777777777777778,
              "#fb9f3a"
             ],
             [
              0.8888888888888888,
              "#fdca26"
             ],
             [
              1,
              "#f0f921"
             ]
            ],
            "type": "heatmapgl"
           }
          ],
          "histogram": [
           {
            "marker": {
             "colorbar": {
              "outlinewidth": 0,
              "ticks": ""
             }
            },
            "type": "histogram"
           }
          ],
          "histogram2d": [
           {
            "colorbar": {
             "outlinewidth": 0,
             "ticks": ""
            },
            "colorscale": [
             [
              0,
              "#0d0887"
             ],
             [
              0.1111111111111111,
              "#46039f"
             ],
             [
              0.2222222222222222,
              "#7201a8"
             ],
             [
              0.3333333333333333,
              "#9c179e"
             ],
             [
              0.4444444444444444,
              "#bd3786"
             ],
             [
              0.5555555555555556,
              "#d8576b"
             ],
             [
              0.6666666666666666,
              "#ed7953"
             ],
             [
              0.7777777777777778,
              "#fb9f3a"
             ],
             [
              0.8888888888888888,
              "#fdca26"
             ],
             [
              1,
              "#f0f921"
             ]
            ],
            "type": "histogram2d"
           }
          ],
          "histogram2dcontour": [
           {
            "colorbar": {
             "outlinewidth": 0,
             "ticks": ""
            },
            "colorscale": [
             [
              0,
              "#0d0887"
             ],
             [
              0.1111111111111111,
              "#46039f"
             ],
             [
              0.2222222222222222,
              "#7201a8"
             ],
             [
              0.3333333333333333,
              "#9c179e"
             ],
             [
              0.4444444444444444,
              "#bd3786"
             ],
             [
              0.5555555555555556,
              "#d8576b"
             ],
             [
              0.6666666666666666,
              "#ed7953"
             ],
             [
              0.7777777777777778,
              "#fb9f3a"
             ],
             [
              0.8888888888888888,
              "#fdca26"
             ],
             [
              1,
              "#f0f921"
             ]
            ],
            "type": "histogram2dcontour"
           }
          ],
          "mesh3d": [
           {
            "colorbar": {
             "outlinewidth": 0,
             "ticks": ""
            },
            "type": "mesh3d"
           }
          ],
          "parcoords": [
           {
            "line": {
             "colorbar": {
              "outlinewidth": 0,
              "ticks": ""
             }
            },
            "type": "parcoords"
           }
          ],
          "pie": [
           {
            "automargin": true,
            "type": "pie"
           }
          ],
          "scatter": [
           {
            "marker": {
             "colorbar": {
              "outlinewidth": 0,
              "ticks": ""
             }
            },
            "type": "scatter"
           }
          ],
          "scatter3d": [
           {
            "line": {
             "colorbar": {
              "outlinewidth": 0,
              "ticks": ""
             }
            },
            "marker": {
             "colorbar": {
              "outlinewidth": 0,
              "ticks": ""
             }
            },
            "type": "scatter3d"
           }
          ],
          "scattercarpet": [
           {
            "marker": {
             "colorbar": {
              "outlinewidth": 0,
              "ticks": ""
             }
            },
            "type": "scattercarpet"
           }
          ],
          "scattergeo": [
           {
            "marker": {
             "colorbar": {
              "outlinewidth": 0,
              "ticks": ""
             }
            },
            "type": "scattergeo"
           }
          ],
          "scattergl": [
           {
            "marker": {
             "colorbar": {
              "outlinewidth": 0,
              "ticks": ""
             }
            },
            "type": "scattergl"
           }
          ],
          "scattermapbox": [
           {
            "marker": {
             "colorbar": {
              "outlinewidth": 0,
              "ticks": ""
             }
            },
            "type": "scattermapbox"
           }
          ],
          "scatterpolar": [
           {
            "marker": {
             "colorbar": {
              "outlinewidth": 0,
              "ticks": ""
             }
            },
            "type": "scatterpolar"
           }
          ],
          "scatterpolargl": [
           {
            "marker": {
             "colorbar": {
              "outlinewidth": 0,
              "ticks": ""
             }
            },
            "type": "scatterpolargl"
           }
          ],
          "scatterternary": [
           {
            "marker": {
             "colorbar": {
              "outlinewidth": 0,
              "ticks": ""
             }
            },
            "type": "scatterternary"
           }
          ],
          "surface": [
           {
            "colorbar": {
             "outlinewidth": 0,
             "ticks": ""
            },
            "colorscale": [
             [
              0,
              "#0d0887"
             ],
             [
              0.1111111111111111,
              "#46039f"
             ],
             [
              0.2222222222222222,
              "#7201a8"
             ],
             [
              0.3333333333333333,
              "#9c179e"
             ],
             [
              0.4444444444444444,
              "#bd3786"
             ],
             [
              0.5555555555555556,
              "#d8576b"
             ],
             [
              0.6666666666666666,
              "#ed7953"
             ],
             [
              0.7777777777777778,
              "#fb9f3a"
             ],
             [
              0.8888888888888888,
              "#fdca26"
             ],
             [
              1,
              "#f0f921"
             ]
            ],
            "type": "surface"
           }
          ],
          "table": [
           {
            "cells": {
             "fill": {
              "color": "#EBF0F8"
             },
             "line": {
              "color": "white"
             }
            },
            "header": {
             "fill": {
              "color": "#C8D4E3"
             },
             "line": {
              "color": "white"
             }
            },
            "type": "table"
           }
          ]
         },
         "layout": {
          "annotationdefaults": {
           "arrowcolor": "#2a3f5f",
           "arrowhead": 0,
           "arrowwidth": 1
          },
          "coloraxis": {
           "colorbar": {
            "outlinewidth": 0,
            "ticks": ""
           }
          },
          "colorscale": {
           "diverging": [
            [
             0,
             "#8e0152"
            ],
            [
             0.1,
             "#c51b7d"
            ],
            [
             0.2,
             "#de77ae"
            ],
            [
             0.3,
             "#f1b6da"
            ],
            [
             0.4,
             "#fde0ef"
            ],
            [
             0.5,
             "#f7f7f7"
            ],
            [
             0.6,
             "#e6f5d0"
            ],
            [
             0.7,
             "#b8e186"
            ],
            [
             0.8,
             "#7fbc41"
            ],
            [
             0.9,
             "#4d9221"
            ],
            [
             1,
             "#276419"
            ]
           ],
           "sequential": [
            [
             0,
             "#0d0887"
            ],
            [
             0.1111111111111111,
             "#46039f"
            ],
            [
             0.2222222222222222,
             "#7201a8"
            ],
            [
             0.3333333333333333,
             "#9c179e"
            ],
            [
             0.4444444444444444,
             "#bd3786"
            ],
            [
             0.5555555555555556,
             "#d8576b"
            ],
            [
             0.6666666666666666,
             "#ed7953"
            ],
            [
             0.7777777777777778,
             "#fb9f3a"
            ],
            [
             0.8888888888888888,
             "#fdca26"
            ],
            [
             1,
             "#f0f921"
            ]
           ],
           "sequentialminus": [
            [
             0,
             "#0d0887"
            ],
            [
             0.1111111111111111,
             "#46039f"
            ],
            [
             0.2222222222222222,
             "#7201a8"
            ],
            [
             0.3333333333333333,
             "#9c179e"
            ],
            [
             0.4444444444444444,
             "#bd3786"
            ],
            [
             0.5555555555555556,
             "#d8576b"
            ],
            [
             0.6666666666666666,
             "#ed7953"
            ],
            [
             0.7777777777777778,
             "#fb9f3a"
            ],
            [
             0.8888888888888888,
             "#fdca26"
            ],
            [
             1,
             "#f0f921"
            ]
           ]
          },
          "colorway": [
           "#636efa",
           "#EF553B",
           "#00cc96",
           "#ab63fa",
           "#FFA15A",
           "#19d3f3",
           "#FF6692",
           "#B6E880",
           "#FF97FF",
           "#FECB52"
          ],
          "font": {
           "color": "#2a3f5f"
          },
          "geo": {
           "bgcolor": "white",
           "lakecolor": "white",
           "landcolor": "#E5ECF6",
           "showlakes": true,
           "showland": true,
           "subunitcolor": "white"
          },
          "hoverlabel": {
           "align": "left"
          },
          "hovermode": "closest",
          "mapbox": {
           "style": "light"
          },
          "paper_bgcolor": "white",
          "plot_bgcolor": "#E5ECF6",
          "polar": {
           "angularaxis": {
            "gridcolor": "white",
            "linecolor": "white",
            "ticks": ""
           },
           "bgcolor": "#E5ECF6",
           "radialaxis": {
            "gridcolor": "white",
            "linecolor": "white",
            "ticks": ""
           }
          },
          "scene": {
           "xaxis": {
            "backgroundcolor": "#E5ECF6",
            "gridcolor": "white",
            "gridwidth": 2,
            "linecolor": "white",
            "showbackground": true,
            "ticks": "",
            "zerolinecolor": "white"
           },
           "yaxis": {
            "backgroundcolor": "#E5ECF6",
            "gridcolor": "white",
            "gridwidth": 2,
            "linecolor": "white",
            "showbackground": true,
            "ticks": "",
            "zerolinecolor": "white"
           },
           "zaxis": {
            "backgroundcolor": "#E5ECF6",
            "gridcolor": "white",
            "gridwidth": 2,
            "linecolor": "white",
            "showbackground": true,
            "ticks": "",
            "zerolinecolor": "white"
           }
          },
          "shapedefaults": {
           "line": {
            "color": "#2a3f5f"
           }
          },
          "ternary": {
           "aaxis": {
            "gridcolor": "white",
            "linecolor": "white",
            "ticks": ""
           },
           "baxis": {
            "gridcolor": "white",
            "linecolor": "white",
            "ticks": ""
           },
           "bgcolor": "#E5ECF6",
           "caxis": {
            "gridcolor": "white",
            "linecolor": "white",
            "ticks": ""
           }
          },
          "title": {
           "x": 0.05
          },
          "xaxis": {
           "automargin": true,
           "gridcolor": "white",
           "linecolor": "white",
           "ticks": "",
           "title": {
            "standoff": 15
           },
           "zerolinecolor": "white",
           "zerolinewidth": 2
          },
          "yaxis": {
           "automargin": true,
           "gridcolor": "white",
           "linecolor": "white",
           "ticks": "",
           "title": {
            "standoff": 15
           },
           "zerolinecolor": "white",
           "zerolinewidth": 2
          }
         }
        }
       }
      }
     },
     "metadata": {}
    }
   ],
   "source": [
    "fig = go.Figure()\n",
    "\n",
    "for ind in df3.index:\n",
    "    data = [1, 2, 3, 4, 5, 6, 7, 8, 9]\n",
    "    fig.add_trace(go.Box(\n",
    "                    y= data,\n",
    "                    x = [df3[\"switchId\"][ind]],\n",
    "                    q1=[df3['d0'][ind]], \n",
    "                    median=[df3['avg'][ind]],\n",
    "                    q3=[df3['d1'][ind]], \n",
    "                    #lowerfence=[df3['min'][ind]],\n",
    "                    #upperfence=[df3['max'][ind]]\n",
    "                    ))\n",
    "\n",
    "fig.show()"
   ]
  },
  {
   "cell_type": "code",
   "execution_count": 89,
   "metadata": {},
   "outputs": [
    {
     "output_type": "display_data",
     "data": {
      "application/vnd.plotly.v1+json": {
       "config": {
        "plotlyServerURL": "https://plot.ly"
       },
       "data": [
        {
         "lowerfence": [
          2.0799999237060547,
          2.0799999237060547,
          2.0799999237060547,
          2.0899999141693115,
          2.0899999141693115,
          3.130000114440918,
          3.130000114440918,
          2.7799999713897705,
          2.7799999713897705,
          2.1600000858306885,
          2.0899999141693115,
          2.7799999713897705,
          2.7799999713897705,
          2.0899999141693115,
          1.3899999856948853,
          1.3899999856948853,
          2.8499999046325684,
          2.8499999046325684,
          2.0799999237060547,
          0,
          2.0799999237060547,
          2.0799999237060547,
          3.130000114440918,
          2.0799999237060547,
          1.25,
          1.25,
          1.25,
          1.25,
          1.25,
          2.5,
          2.5,
          1.25,
          1.25,
          1.25,
          1.25,
          1.25,
          1.25,
          1.25,
          1.25,
          1.25,
          1.0399999618530273,
          1.0499999523162842,
          1.0399999618530273,
          3.130000114440918,
          3.130000114440918,
          3.130000114440918,
          3.130000114440918,
          1.0499999523162842,
          1.0399999618530273,
          3.609999895095825,
          3.609999895095825,
          2.7100000381469727,
          2.7100000381469727,
          3.609999895095825,
          2.7200000286102295,
          2.7200000286102295,
          2.7100000381469727,
          2.7100000381469727,
          1.809999942779541,
          1.809999942779541,
          2.7100000381469727,
          2.7100000381469727,
          1.25,
          1.25,
          2.0899999141693115,
          1.7300000190734863,
          1.7300000190734863,
          1.7300000190734863,
          1.7300000190734863,
          1.7300000190734863,
          1.7300000190734863,
          1.7300000190734863,
          1.7300000190734863,
          1.7300000190734863,
          1.7400000095367432,
          1.7400000095367432,
          1.7400000095367432,
          1.7400000095367432,
          1.7400000095367432,
          1.7400000095367432,
          1.7400000095367432,
          1.7300000190734863,
          1.7400000095367432,
          1.7400000095367432,
          1.7400000095367432,
          1.25,
          1.25,
          1.25,
          1.9500000476837158,
          1.9500000476837158,
          2.9200000762939453,
          2.9200000762939453,
          1.940000057220459,
          1.940000057220459,
          1.940000057220459,
          1.940000057220459,
          1.25,
          1.25,
          1.7300000190734863,
          1.7400000095367432,
          1.940000057220459,
          1.940000057220459,
          1.940000057220459,
          1.940000057220459,
          1.25,
          2.5,
          2.5,
          1.25,
          2.5,
          1.25,
          2.5,
          2.5,
          1.25,
          2.5,
          1.25,
          1.25,
          1.7400000095367432,
          1.7400000095367432,
          3.4700000286102295,
          3.4700000286102295,
          2.5,
          2.5,
          3.059999942779541,
          3.059999942779541,
          3.059999942779541,
          2.2899999618530273,
          2.2899999618530273,
          0,
          3.059999942779541,
          3.059999942779541,
          3.059999942779541,
          3.059999942779541,
          1.5299999713897705,
          1.5299999713897705
         ],
         "median": [
          3.134611961626551,
          3.135920000658987,
          3.1366260427240604,
          3.1549354013402993,
          3.1549420688833507,
          3.3918076175292704,
          3.3918076175292704,
          3.8532445145613208,
          3.8532445145613208,
          3.951256558162136,
          3.9546945517970222,
          3.9595892170278595,
          3.9577706959641095,
          3.8558399889043837,
          3.773913097111984,
          3.776895592546979,
          4.436278672943824,
          3.7515008602017046,
          3.138260438096292,
          0,
          3.1363090831496345,
          3.133714526418539,
          3.134824978491053,
          3.263627616034154,
          3.681601324289629,
          3.4902021532564746,
          3.6068245339477913,
          3.612315848420166,
          3.612315848420166,
          3.5998135676175402,
          3.5998135676175402,
          3.445649325101423,
          3.4454414344031092,
          4.460082015229959,
          3.052724864350671,
          3.434607305842141,
          3.9419516801721715,
          3.3564823995724096,
          3.052724864350671,
          4.179031643692689,
          3.1389204752302073,
          3.1492207681622797,
          3.146176998854408,
          3.8169550431994517,
          3.1399078185258134,
          3.142480184120011,
          3.1399078185258134,
          4.808488949469185,
          3.135324336544043,
          3.6211834250347077,
          3.6211834250347077,
          3.6210282316092055,
          3.620973127408426,
          3.6225444899789814,
          3.6223674706433022,
          3.6223674706433022,
          3.623489344543363,
          3.623489344543363,
          3.6224941085338322,
          3.622494354604628,
          3.6220768588197396,
          3.622076979426459,
          3.4668864903432546,
          3.4465601056345245,
          3.140744333087735,
          3.4973284610529976,
          3.497308016035536,
          3.499025887002555,
          3.499025598325056,
          3.4980804046394436,
          3.4980804046394436,
          2.85305731519448,
          3.44515823100461,
          3.46873090466097,
          3.5953540668096107,
          3.5202968139539044,
          3.520221431358133,
          3.5006852465821705,
          3.5007041631139573,
          3.499203177886652,
          3.499203177886652,
          3.846855676082346,
          4.156995187315506,
          4.06853934744969,
          4.465858374724401,
          3.177018586220968,
          3.1753490856071456,
          3.0655420269843487,
          3.8188446991313816,
          3.8188446991313816,
          3.7894885406026924,
          3.7894885406026924,
          3.2474047636850423,
          3.2474047636850423,
          3.9808599349040135,
          3.980079680301581,
          3.641170418320521,
          3.5744289492321326,
          3.085798956930807,
          3.5441566418910373,
          3.2691181337883517,
          3.2691023792989133,
          3.375014509350726,
          3.375040409739301,
          3.3395477970572607,
          2.8002525373445204,
          3.7268455789369694,
          2.981554155488025,
          3.0576073259647147,
          3.149515570657133,
          3.6378181736686015,
          3.641425446423617,
          3.3907643408399855,
          3.6668206650135735,
          3.6202336871952134,
          3.6203500736713323,
          3.515174580697058,
          3.515174580697058,
          3.6277361749080903,
          3.6554062149464857,
          3.697094818943049,
          3.697062642914944,
          3.781618269723191,
          3.677958347396274,
          3.677958347396274,
          3.6846510989166967,
          3.678260401348735,
          0,
          3.8154682879709494,
          3.8154682879709494,
          3.8182224319580977,
          3.8182224319580977,
          3.810949495620709,
          3.810920217582803
         ],
         "q1": [
          3.129673724588786,
          3.1291540224258214,
          3.129153340093551,
          3.1306658151123297,
          3.130661310146214,
          3.134857929713353,
          3.134857929713353,
          3.4833806963129477,
          3.4833806963129477,
          3.4952902271255764,
          3.495776143543577,
          3.486528201579576,
          3.486483312308905,
          3.4855948394298815,
          3.5505669924388408,
          3.5273867379408124,
          3.7333470005147595,
          3.505067588673317,
          3.1296589516402125,
          0,
          3.1295515039154815,
          3.1297149131327444,
          3.130000114440918,
          3.1341240596462647,
          2.5294667944083,
          2.5187548391440315,
          2.525133608639707,
          2.5493190378739885,
          2.5493190378739885,
          2.5568203766931292,
          2.5568203766931292,
          2.54176801678774,
          2.5417694123041428,
          3.2871267207493498,
          2.5162349878514814,
          2.5111201651106576,
          2.9419583814813692,
          2.505631698510467,
          2.5162349878514814,
          3.209721186584514,
          3.1296175119713485,
          3.1303430934371943,
          3.130823179878183,
          3.179598218092369,
          3.130000114440918,
          3.1312962025903457,
          3.130000114440918,
          4.005699831083126,
          3.1155759341674547,
          3.618337641344146,
          3.618337641344146,
          3.6176921948541367,
          3.6176902637322077,
          3.6183094026818847,
          3.6179771311816613,
          3.6179771311816613,
          3.617937863197368,
          3.617937863197368,
          3.6179651669099466,
          3.617965156791392,
          3.617838727314569,
          3.617838920861729,
          2.4873280882132778,
          2.5287337384143975,
          3.130350343422956,
          3.4790090301674073,
          3.478984305915488,
          3.478770846139729,
          3.47877086996622,
          3.4781782488599715,
          3.4781782488599715,
          1.7509367721648066,
          1.7436893275640544,
          1.7531861819598589,
          3.490479046075476,
          3.478440138790278,
          3.478440391771187,
          3.478629876743309,
          3.478628273768954,
          3.478402412024282,
          3.478402412024282,
          3.4990587228612697,
          3.496430623189114,
          3.500788909359656,
          3.504937017709352,
          2.507708679304287,
          2.5077047462129096,
          2.5082859418687433,
          2.9692778216467963,
          2.9692778216467963,
          3.0293363079560542,
          3.0293363079560542,
          2.9557643434687004,
          2.9557643434687004,
          3.260228074334732,
          3.260179068617359,
          2.5106900041050793,
          2.510725393768713,
          1.749287036169101,
          3.4806471665509555,
          2.95323085248466,
          2.953230052398557,
          2.9612472584647684,
          2.9612486624965677,
          2.509016625581667,
          2.509121250392294,
          2.507560968399048,
          2.508442631219617,
          2.5087896948720254,
          2.5083123545206893,
          2.5210370311030634,
          2.522213733833255,
          2.511083694635473,
          2.5116995801386834,
          2.512360992977256,
          2.51237096151998,
          3.478728224986639,
          3.478728224986639,
          3.4936005260336955,
          3.4936005260336955,
          3.1381447608865782,
          3.1381404944400377,
          3.062794061268077,
          3.0635237534840902,
          3.0635237534840902,
          3.0621462891741498,
          3.062523312657793,
          0,
          3.070434746534928,
          3.070434746534928,
          3.0659027298291526,
          3.0659027298291526,
          3.062989027005462,
          3.062990601634682
         ],
         "q3": [
          3.159785304306798,
          3.172112151466567,
          3.1763949322598175,
          3.4544047599747065,
          3.4544047599747065,
          30.499999682108562,
          30.499999682108562,
          4.47026851467235,
          4.47026851467235,
          4.179604089282636,
          4.180277550903083,
          4.246490648712451,
          4.2467891035309755,
          4.1770368747639015,
          4.35848604566869,
          4.188905043108139,
          4.895005676064518,
          4.181986682585025,
          3.181095848648577,
          0,
          3.168215671502931,
          3.1557539826119623,
          3.159308597128442,
          4.075204147658925,
          3.7800568813845876,
          3.7747951001579496,
          3.7773856619274775,
          3.765025353993195,
          3.765025353993195,
          3.7659134064575794,
          3.7659134064575794,
          3.7652732097101995,
          3.7652619849751323,
          5.090881859832554,
          3.9233542255170657,
          3.8570940597994072,
          5.063984841257383,
          3.8241666682561237,
          3.9233542255170657,
          5.090414473116671,
          3.1741730563873816,
          3.2193568281178337,
          3.215692239743407,
          4.926705750444725,
          3.180100071430206,
          3.234311959065429,
          3.180100071430206,
          5.233857263023838,
          3.2016913388932844,
          3.7131428922925678,
          3.7131428922925678,
          3.7233333587646484,
          3.724210550910548,
          3.74166670032576,
          3.709916004613668,
          3.709916004613668,
          3.720666703723726,
          3.720666703723726,
          3.712840599429323,
          3.7128381224157443,
          3.7151853478871857,
          3.7151853478871857,
          4.583561130173396,
          3.8066659995609715,
          3.2750000329244706,
          3.571323457776126,
          3.571323457776126,
          3.572001891507988,
          3.572001891507988,
          3.5738432005535707,
          3.5738432005535707,
          3.4980806342721253,
          3.4971153306353173,
          3.5070798470614197,
          4.32630488070398,
          3.6638686253691994,
          3.663557052700739,
          3.5797381585805206,
          3.5797381585805206,
          3.586469473377351,
          3.586469473377351,
          5.245901961720018,
          5.245780628186295,
          5.241040389091266,
          5.269518335839695,
          3.761750801918181,
          3.761761387259809,
          3.762540850533854,
          3.9341705196044026,
          3.9341705196044026,
          3.937332262270627,
          3.937332262270627,
          3.9121277427419705,
          3.9121277427419705,
          35.58571439129965,
          36.74888900474266,
          3.7665480758135597,
          3.76531507684178,
          3.500682406574201,
          3.757923995479179,
          3.9037961423695497,
          3.903796326009413,
          3.903233462536288,
          3.903230997758684,
          3.763516197598198,
          3.7629707703342685,
          3.7647460103486865,
          3.7610522232677783,
          3.761762105945974,
          3.761560220294366,
          3.759403217415656,
          3.759284557636911,
          3.769728131216766,
          3.768166677256053,
          3.763673438214982,
          3.7636730550053272,
          3.6761494247181634,
          3.6761494247181634,
          10.998809451148624,
          12.340232494265534,
          3.7585242706319923,
          3.7585247616614064,
          3.8304494846831787,
          3.8301178576811306,
          3.8301178576811306,
          3.831333266729596,
          3.831300746273081,
          0,
          3.830215079238616,
          3.830215079238616,
          3.8306346726898313,
          3.8306346726898313,
          3.829589910711429,
          3.8295898138190565
         ],
         "type": "box",
         "upperfence": [
          3.3399999141693115,
          4.179999828338623,
          4.179999828338623,
          54.34000015258789,
          54.34000015258789,
          1052.030029296875,
          1052.030029296875,
          175.77000427246094,
          175.77000427246094,
          4.320000171661377,
          4.320000171661377,
          48.150001525878906,
          48.150001525878906,
          4.309999942779541,
          5.570000171661377,
          4.320000171661377,
          5.570000171661377,
          4.380000114440918,
          4.179999828338623,
          0,
          4.179999828338623,
          4.170000076293945,
          4.179999828338623,
          4.25,
          4.039999961853027,
          4.03000020980835,
          4.039999961853027,
          3.9700000286102295,
          3.9700000286102295,
          3.9700000286102295,
          3.9700000286102295,
          3.9700000286102295,
          3.9700000286102295,
          7.519999980926514,
          27.690000534057617,
          5.21999979019165,
          6.610000133514404,
          6.260000228881836,
          27.690000534057617,
          7.510000228881836,
          4.170000076293945,
          4.179999828338623,
          4.179999828338623,
          5.360000133514404,
          4.179999828338623,
          274.1499938964844,
          4.179999828338623,
          7.309999942779541,
          4.25,
          4.519999980926514,
          4.519999980926514,
          3.8299999237060547,
          3.8299999237060547,
          4.53000020980835,
          3.819999933242798,
          3.819999933242798,
          4.53000020980835,
          4.53000020980835,
          3.8299999237060547,
          3.8299999237060547,
          3.8299999237060547,
          3.8299999237060547,
          6.480000019073486,
          4.039999961853027,
          4.179999828338623,
          3.75,
          3.75,
          3.75,
          3.75,
          3.759999990463257,
          3.759999990463257,
          3.759999990463257,
          3.690000057220459,
          5.289999961853027,
          5.360000133514404,
          5.289999961853027,
          5.289999961853027,
          5.21999979019165,
          5.21999979019165,
          5.289999961853027,
          5.289999961853027,
          5.5,
          6.949999809265137,
          5.489999771118164,
          5.559999942779541,
          3.9000000953674316,
          3.9000000953674316,
          3.9600000381469727,
          4.869999885559082,
          4.869999885559082,
          4.25,
          4.25,
          4.110000133514404,
          4.110000133514404,
          985.8499755859375,
          985.8499755859375,
          3.9700000286102295,
          3.9700000286102295,
          5.21999979019165,
          5.289999961853027,
          4.110000133514404,
          4.110000133514404,
          4.110000133514404,
          4.110000133514404,
          3.9700000286102295,
          3.9700000286102295,
          4.03000020980835,
          3.9000000953674316,
          3.9700000286102295,
          3.9600000381469727,
          3.9700000286102295,
          3.9700000286102295,
          4.039999961853027,
          4.039999961853027,
          3.9700000286102295,
          3.9700000286102295,
          29.649999618530273,
          29.649999618530273,
          68.68000030517578,
          90.52999877929688,
          3.9000000953674316,
          3.9000000953674316,
          4.099999904632568,
          4.599999904632568,
          4.599999904632568,
          5.349999904632568,
          5.349999904632568,
          0,
          6.130000114440918,
          6.130000114440918,
          4.039999961853027,
          4.039999961853027,
          3.9700000286102295,
          3.9700000286102295
         ],
         "y": [
          1,
          2,
          3,
          4,
          5,
          6,
          7,
          8
         ]
        }
       ],
       "layout": {
        "template": {
         "data": {
          "bar": [
           {
            "error_x": {
             "color": "#2a3f5f"
            },
            "error_y": {
             "color": "#2a3f5f"
            },
            "marker": {
             "line": {
              "color": "#E5ECF6",
              "width": 0.5
             }
            },
            "type": "bar"
           }
          ],
          "barpolar": [
           {
            "marker": {
             "line": {
              "color": "#E5ECF6",
              "width": 0.5
             }
            },
            "type": "barpolar"
           }
          ],
          "carpet": [
           {
            "aaxis": {
             "endlinecolor": "#2a3f5f",
             "gridcolor": "white",
             "linecolor": "white",
             "minorgridcolor": "white",
             "startlinecolor": "#2a3f5f"
            },
            "baxis": {
             "endlinecolor": "#2a3f5f",
             "gridcolor": "white",
             "linecolor": "white",
             "minorgridcolor": "white",
             "startlinecolor": "#2a3f5f"
            },
            "type": "carpet"
           }
          ],
          "choropleth": [
           {
            "colorbar": {
             "outlinewidth": 0,
             "ticks": ""
            },
            "type": "choropleth"
           }
          ],
          "contour": [
           {
            "colorbar": {
             "outlinewidth": 0,
             "ticks": ""
            },
            "colorscale": [
             [
              0,
              "#0d0887"
             ],
             [
              0.1111111111111111,
              "#46039f"
             ],
             [
              0.2222222222222222,
              "#7201a8"
             ],
             [
              0.3333333333333333,
              "#9c179e"
             ],
             [
              0.4444444444444444,
              "#bd3786"
             ],
             [
              0.5555555555555556,
              "#d8576b"
             ],
             [
              0.6666666666666666,
              "#ed7953"
             ],
             [
              0.7777777777777778,
              "#fb9f3a"
             ],
             [
              0.8888888888888888,
              "#fdca26"
             ],
             [
              1,
              "#f0f921"
             ]
            ],
            "type": "contour"
           }
          ],
          "contourcarpet": [
           {
            "colorbar": {
             "outlinewidth": 0,
             "ticks": ""
            },
            "type": "contourcarpet"
           }
          ],
          "heatmap": [
           {
            "colorbar": {
             "outlinewidth": 0,
             "ticks": ""
            },
            "colorscale": [
             [
              0,
              "#0d0887"
             ],
             [
              0.1111111111111111,
              "#46039f"
             ],
             [
              0.2222222222222222,
              "#7201a8"
             ],
             [
              0.3333333333333333,
              "#9c179e"
             ],
             [
              0.4444444444444444,
              "#bd3786"
             ],
             [
              0.5555555555555556,
              "#d8576b"
             ],
             [
              0.6666666666666666,
              "#ed7953"
             ],
             [
              0.7777777777777778,
              "#fb9f3a"
             ],
             [
              0.8888888888888888,
              "#fdca26"
             ],
             [
              1,
              "#f0f921"
             ]
            ],
            "type": "heatmap"
           }
          ],
          "heatmapgl": [
           {
            "colorbar": {
             "outlinewidth": 0,
             "ticks": ""
            },
            "colorscale": [
             [
              0,
              "#0d0887"
             ],
             [
              0.1111111111111111,
              "#46039f"
             ],
             [
              0.2222222222222222,
              "#7201a8"
             ],
             [
              0.3333333333333333,
              "#9c179e"
             ],
             [
              0.4444444444444444,
              "#bd3786"
             ],
             [
              0.5555555555555556,
              "#d8576b"
             ],
             [
              0.6666666666666666,
              "#ed7953"
             ],
             [
              0.7777777777777778,
              "#fb9f3a"
             ],
             [
              0.8888888888888888,
              "#fdca26"
             ],
             [
              1,
              "#f0f921"
             ]
            ],
            "type": "heatmapgl"
           }
          ],
          "histogram": [
           {
            "marker": {
             "colorbar": {
              "outlinewidth": 0,
              "ticks": ""
             }
            },
            "type": "histogram"
           }
          ],
          "histogram2d": [
           {
            "colorbar": {
             "outlinewidth": 0,
             "ticks": ""
            },
            "colorscale": [
             [
              0,
              "#0d0887"
             ],
             [
              0.1111111111111111,
              "#46039f"
             ],
             [
              0.2222222222222222,
              "#7201a8"
             ],
             [
              0.3333333333333333,
              "#9c179e"
             ],
             [
              0.4444444444444444,
              "#bd3786"
             ],
             [
              0.5555555555555556,
              "#d8576b"
             ],
             [
              0.6666666666666666,
              "#ed7953"
             ],
             [
              0.7777777777777778,
              "#fb9f3a"
             ],
             [
              0.8888888888888888,
              "#fdca26"
             ],
             [
              1,
              "#f0f921"
             ]
            ],
            "type": "histogram2d"
           }
          ],
          "histogram2dcontour": [
           {
            "colorbar": {
             "outlinewidth": 0,
             "ticks": ""
            },
            "colorscale": [
             [
              0,
              "#0d0887"
             ],
             [
              0.1111111111111111,
              "#46039f"
             ],
             [
              0.2222222222222222,
              "#7201a8"
             ],
             [
              0.3333333333333333,
              "#9c179e"
             ],
             [
              0.4444444444444444,
              "#bd3786"
             ],
             [
              0.5555555555555556,
              "#d8576b"
             ],
             [
              0.6666666666666666,
              "#ed7953"
             ],
             [
              0.7777777777777778,
              "#fb9f3a"
             ],
             [
              0.8888888888888888,
              "#fdca26"
             ],
             [
              1,
              "#f0f921"
             ]
            ],
            "type": "histogram2dcontour"
           }
          ],
          "mesh3d": [
           {
            "colorbar": {
             "outlinewidth": 0,
             "ticks": ""
            },
            "type": "mesh3d"
           }
          ],
          "parcoords": [
           {
            "line": {
             "colorbar": {
              "outlinewidth": 0,
              "ticks": ""
             }
            },
            "type": "parcoords"
           }
          ],
          "pie": [
           {
            "automargin": true,
            "type": "pie"
           }
          ],
          "scatter": [
           {
            "marker": {
             "colorbar": {
              "outlinewidth": 0,
              "ticks": ""
             }
            },
            "type": "scatter"
           }
          ],
          "scatter3d": [
           {
            "line": {
             "colorbar": {
              "outlinewidth": 0,
              "ticks": ""
             }
            },
            "marker": {
             "colorbar": {
              "outlinewidth": 0,
              "ticks": ""
             }
            },
            "type": "scatter3d"
           }
          ],
          "scattercarpet": [
           {
            "marker": {
             "colorbar": {
              "outlinewidth": 0,
              "ticks": ""
             }
            },
            "type": "scattercarpet"
           }
          ],
          "scattergeo": [
           {
            "marker": {
             "colorbar": {
              "outlinewidth": 0,
              "ticks": ""
             }
            },
            "type": "scattergeo"
           }
          ],
          "scattergl": [
           {
            "marker": {
             "colorbar": {
              "outlinewidth": 0,
              "ticks": ""
             }
            },
            "type": "scattergl"
           }
          ],
          "scattermapbox": [
           {
            "marker": {
             "colorbar": {
              "outlinewidth": 0,
              "ticks": ""
             }
            },
            "type": "scattermapbox"
           }
          ],
          "scatterpolar": [
           {
            "marker": {
             "colorbar": {
              "outlinewidth": 0,
              "ticks": ""
             }
            },
            "type": "scatterpolar"
           }
          ],
          "scatterpolargl": [
           {
            "marker": {
             "colorbar": {
              "outlinewidth": 0,
              "ticks": ""
             }
            },
            "type": "scatterpolargl"
           }
          ],
          "scatterternary": [
           {
            "marker": {
             "colorbar": {
              "outlinewidth": 0,
              "ticks": ""
             }
            },
            "type": "scatterternary"
           }
          ],
          "surface": [
           {
            "colorbar": {
             "outlinewidth": 0,
             "ticks": ""
            },
            "colorscale": [
             [
              0,
              "#0d0887"
             ],
             [
              0.1111111111111111,
              "#46039f"
             ],
             [
              0.2222222222222222,
              "#7201a8"
             ],
             [
              0.3333333333333333,
              "#9c179e"
             ],
             [
              0.4444444444444444,
              "#bd3786"
             ],
             [
              0.5555555555555556,
              "#d8576b"
             ],
             [
              0.6666666666666666,
              "#ed7953"
             ],
             [
              0.7777777777777778,
              "#fb9f3a"
             ],
             [
              0.8888888888888888,
              "#fdca26"
             ],
             [
              1,
              "#f0f921"
             ]
            ],
            "type": "surface"
           }
          ],
          "table": [
           {
            "cells": {
             "fill": {
              "color": "#EBF0F8"
             },
             "line": {
              "color": "white"
             }
            },
            "header": {
             "fill": {
              "color": "#C8D4E3"
             },
             "line": {
              "color": "white"
             }
            },
            "type": "table"
           }
          ]
         },
         "layout": {
          "annotationdefaults": {
           "arrowcolor": "#2a3f5f",
           "arrowhead": 0,
           "arrowwidth": 1
          },
          "coloraxis": {
           "colorbar": {
            "outlinewidth": 0,
            "ticks": ""
           }
          },
          "colorscale": {
           "diverging": [
            [
             0,
             "#8e0152"
            ],
            [
             0.1,
             "#c51b7d"
            ],
            [
             0.2,
             "#de77ae"
            ],
            [
             0.3,
             "#f1b6da"
            ],
            [
             0.4,
             "#fde0ef"
            ],
            [
             0.5,
             "#f7f7f7"
            ],
            [
             0.6,
             "#e6f5d0"
            ],
            [
             0.7,
             "#b8e186"
            ],
            [
             0.8,
             "#7fbc41"
            ],
            [
             0.9,
             "#4d9221"
            ],
            [
             1,
             "#276419"
            ]
           ],
           "sequential": [
            [
             0,
             "#0d0887"
            ],
            [
             0.1111111111111111,
             "#46039f"
            ],
            [
             0.2222222222222222,
             "#7201a8"
            ],
            [
             0.3333333333333333,
             "#9c179e"
            ],
            [
             0.4444444444444444,
             "#bd3786"
            ],
            [
             0.5555555555555556,
             "#d8576b"
            ],
            [
             0.6666666666666666,
             "#ed7953"
            ],
            [
             0.7777777777777778,
             "#fb9f3a"
            ],
            [
             0.8888888888888888,
             "#fdca26"
            ],
            [
             1,
             "#f0f921"
            ]
           ],
           "sequentialminus": [
            [
             0,
             "#0d0887"
            ],
            [
             0.1111111111111111,
             "#46039f"
            ],
            [
             0.2222222222222222,
             "#7201a8"
            ],
            [
             0.3333333333333333,
             "#9c179e"
            ],
            [
             0.4444444444444444,
             "#bd3786"
            ],
            [
             0.5555555555555556,
             "#d8576b"
            ],
            [
             0.6666666666666666,
             "#ed7953"
            ],
            [
             0.7777777777777778,
             "#fb9f3a"
            ],
            [
             0.8888888888888888,
             "#fdca26"
            ],
            [
             1,
             "#f0f921"
            ]
           ]
          },
          "colorway": [
           "#636efa",
           "#EF553B",
           "#00cc96",
           "#ab63fa",
           "#FFA15A",
           "#19d3f3",
           "#FF6692",
           "#B6E880",
           "#FF97FF",
           "#FECB52"
          ],
          "font": {
           "color": "#2a3f5f"
          },
          "geo": {
           "bgcolor": "white",
           "lakecolor": "white",
           "landcolor": "#E5ECF6",
           "showlakes": true,
           "showland": true,
           "subunitcolor": "white"
          },
          "hoverlabel": {
           "align": "left"
          },
          "hovermode": "closest",
          "mapbox": {
           "style": "light"
          },
          "paper_bgcolor": "white",
          "plot_bgcolor": "#E5ECF6",
          "polar": {
           "angularaxis": {
            "gridcolor": "white",
            "linecolor": "white",
            "ticks": ""
           },
           "bgcolor": "#E5ECF6",
           "radialaxis": {
            "gridcolor": "white",
            "linecolor": "white",
            "ticks": ""
           }
          },
          "scene": {
           "xaxis": {
            "backgroundcolor": "#E5ECF6",
            "gridcolor": "white",
            "gridwidth": 2,
            "linecolor": "white",
            "showbackground": true,
            "ticks": "",
            "zerolinecolor": "white"
           },
           "yaxis": {
            "backgroundcolor": "#E5ECF6",
            "gridcolor": "white",
            "gridwidth": 2,
            "linecolor": "white",
            "showbackground": true,
            "ticks": "",
            "zerolinecolor": "white"
           },
           "zaxis": {
            "backgroundcolor": "#E5ECF6",
            "gridcolor": "white",
            "gridwidth": 2,
            "linecolor": "white",
            "showbackground": true,
            "ticks": "",
            "zerolinecolor": "white"
           }
          },
          "shapedefaults": {
           "line": {
            "color": "#2a3f5f"
           }
          },
          "ternary": {
           "aaxis": {
            "gridcolor": "white",
            "linecolor": "white",
            "ticks": ""
           },
           "baxis": {
            "gridcolor": "white",
            "linecolor": "white",
            "ticks": ""
           },
           "bgcolor": "#E5ECF6",
           "caxis": {
            "gridcolor": "white",
            "linecolor": "white",
            "ticks": ""
           }
          },
          "title": {
           "x": 0.05
          },
          "xaxis": {
           "automargin": true,
           "gridcolor": "white",
           "linecolor": "white",
           "ticks": "",
           "title": {
            "standoff": 15
           },
           "zerolinecolor": "white",
           "zerolinewidth": 2
          },
          "yaxis": {
           "automargin": true,
           "gridcolor": "white",
           "linecolor": "white",
           "ticks": "",
           "title": {
            "standoff": 15
           },
           "zerolinecolor": "white",
           "zerolinewidth": 2
          }
         }
        }
       }
      }
     },
     "metadata": {}
    }
   ],
   "source": [
    "fig = go.Figure()\n",
    "data = [1, 2, 3, 4, 5, 6, 7, 8]\n",
    "fig.add_trace(go.Box(y = data,\n",
    "                q1=d0, \n",
    "                median=avg,\n",
    "                q3=d1, \n",
    "                lowerfence=Lof,\n",
    "                upperfence=Uof\n",
    "                    ))\n",
    "\n",
    "fig.show()"
   ]
  },
  {
   "cell_type": "code",
   "execution_count": 104,
   "metadata": {},
   "outputs": [
    {
     "output_type": "display_data",
     "data": {
      "application/vnd.plotly.v1+json": {
       "config": {
        "plotlyServerURL": "https://plot.ly"
       },
       "data": [
        {
         "lowerfence": [
          2.0799999237060547
         ],
         "median": [
          3.134611961626551
         ],
         "name": "Precompiled Quartiles",
         "q1": [
          3.129673724588786
         ],
         "q3": [
          3.159785304306798
         ],
         "type": "box",
         "upperfence": [
          3.3399999141693115
         ],
         "y": [
          1,
          2,
          3,
          4,
          5,
          6,
          7,
          8,
          9
         ]
        }
       ],
       "layout": {
        "template": {
         "data": {
          "bar": [
           {
            "error_x": {
             "color": "#2a3f5f"
            },
            "error_y": {
             "color": "#2a3f5f"
            },
            "marker": {
             "line": {
              "color": "#E5ECF6",
              "width": 0.5
             }
            },
            "type": "bar"
           }
          ],
          "barpolar": [
           {
            "marker": {
             "line": {
              "color": "#E5ECF6",
              "width": 0.5
             }
            },
            "type": "barpolar"
           }
          ],
          "carpet": [
           {
            "aaxis": {
             "endlinecolor": "#2a3f5f",
             "gridcolor": "white",
             "linecolor": "white",
             "minorgridcolor": "white",
             "startlinecolor": "#2a3f5f"
            },
            "baxis": {
             "endlinecolor": "#2a3f5f",
             "gridcolor": "white",
             "linecolor": "white",
             "minorgridcolor": "white",
             "startlinecolor": "#2a3f5f"
            },
            "type": "carpet"
           }
          ],
          "choropleth": [
           {
            "colorbar": {
             "outlinewidth": 0,
             "ticks": ""
            },
            "type": "choropleth"
           }
          ],
          "contour": [
           {
            "colorbar": {
             "outlinewidth": 0,
             "ticks": ""
            },
            "colorscale": [
             [
              0,
              "#0d0887"
             ],
             [
              0.1111111111111111,
              "#46039f"
             ],
             [
              0.2222222222222222,
              "#7201a8"
             ],
             [
              0.3333333333333333,
              "#9c179e"
             ],
             [
              0.4444444444444444,
              "#bd3786"
             ],
             [
              0.5555555555555556,
              "#d8576b"
             ],
             [
              0.6666666666666666,
              "#ed7953"
             ],
             [
              0.7777777777777778,
              "#fb9f3a"
             ],
             [
              0.8888888888888888,
              "#fdca26"
             ],
             [
              1,
              "#f0f921"
             ]
            ],
            "type": "contour"
           }
          ],
          "contourcarpet": [
           {
            "colorbar": {
             "outlinewidth": 0,
             "ticks": ""
            },
            "type": "contourcarpet"
           }
          ],
          "heatmap": [
           {
            "colorbar": {
             "outlinewidth": 0,
             "ticks": ""
            },
            "colorscale": [
             [
              0,
              "#0d0887"
             ],
             [
              0.1111111111111111,
              "#46039f"
             ],
             [
              0.2222222222222222,
              "#7201a8"
             ],
             [
              0.3333333333333333,
              "#9c179e"
             ],
             [
              0.4444444444444444,
              "#bd3786"
             ],
             [
              0.5555555555555556,
              "#d8576b"
             ],
             [
              0.6666666666666666,
              "#ed7953"
             ],
             [
              0.7777777777777778,
              "#fb9f3a"
             ],
             [
              0.8888888888888888,
              "#fdca26"
             ],
             [
              1,
              "#f0f921"
             ]
            ],
            "type": "heatmap"
           }
          ],
          "heatmapgl": [
           {
            "colorbar": {
             "outlinewidth": 0,
             "ticks": ""
            },
            "colorscale": [
             [
              0,
              "#0d0887"
             ],
             [
              0.1111111111111111,
              "#46039f"
             ],
             [
              0.2222222222222222,
              "#7201a8"
             ],
             [
              0.3333333333333333,
              "#9c179e"
             ],
             [
              0.4444444444444444,
              "#bd3786"
             ],
             [
              0.5555555555555556,
              "#d8576b"
             ],
             [
              0.6666666666666666,
              "#ed7953"
             ],
             [
              0.7777777777777778,
              "#fb9f3a"
             ],
             [
              0.8888888888888888,
              "#fdca26"
             ],
             [
              1,
              "#f0f921"
             ]
            ],
            "type": "heatmapgl"
           }
          ],
          "histogram": [
           {
            "marker": {
             "colorbar": {
              "outlinewidth": 0,
              "ticks": ""
             }
            },
            "type": "histogram"
           }
          ],
          "histogram2d": [
           {
            "colorbar": {
             "outlinewidth": 0,
             "ticks": ""
            },
            "colorscale": [
             [
              0,
              "#0d0887"
             ],
             [
              0.1111111111111111,
              "#46039f"
             ],
             [
              0.2222222222222222,
              "#7201a8"
             ],
             [
              0.3333333333333333,
              "#9c179e"
             ],
             [
              0.4444444444444444,
              "#bd3786"
             ],
             [
              0.5555555555555556,
              "#d8576b"
             ],
             [
              0.6666666666666666,
              "#ed7953"
             ],
             [
              0.7777777777777778,
              "#fb9f3a"
             ],
             [
              0.8888888888888888,
              "#fdca26"
             ],
             [
              1,
              "#f0f921"
             ]
            ],
            "type": "histogram2d"
           }
          ],
          "histogram2dcontour": [
           {
            "colorbar": {
             "outlinewidth": 0,
             "ticks": ""
            },
            "colorscale": [
             [
              0,
              "#0d0887"
             ],
             [
              0.1111111111111111,
              "#46039f"
             ],
             [
              0.2222222222222222,
              "#7201a8"
             ],
             [
              0.3333333333333333,
              "#9c179e"
             ],
             [
              0.4444444444444444,
              "#bd3786"
             ],
             [
              0.5555555555555556,
              "#d8576b"
             ],
             [
              0.6666666666666666,
              "#ed7953"
             ],
             [
              0.7777777777777778,
              "#fb9f3a"
             ],
             [
              0.8888888888888888,
              "#fdca26"
             ],
             [
              1,
              "#f0f921"
             ]
            ],
            "type": "histogram2dcontour"
           }
          ],
          "mesh3d": [
           {
            "colorbar": {
             "outlinewidth": 0,
             "ticks": ""
            },
            "type": "mesh3d"
           }
          ],
          "parcoords": [
           {
            "line": {
             "colorbar": {
              "outlinewidth": 0,
              "ticks": ""
             }
            },
            "type": "parcoords"
           }
          ],
          "pie": [
           {
            "automargin": true,
            "type": "pie"
           }
          ],
          "scatter": [
           {
            "marker": {
             "colorbar": {
              "outlinewidth": 0,
              "ticks": ""
             }
            },
            "type": "scatter"
           }
          ],
          "scatter3d": [
           {
            "line": {
             "colorbar": {
              "outlinewidth": 0,
              "ticks": ""
             }
            },
            "marker": {
             "colorbar": {
              "outlinewidth": 0,
              "ticks": ""
             }
            },
            "type": "scatter3d"
           }
          ],
          "scattercarpet": [
           {
            "marker": {
             "colorbar": {
              "outlinewidth": 0,
              "ticks": ""
             }
            },
            "type": "scattercarpet"
           }
          ],
          "scattergeo": [
           {
            "marker": {
             "colorbar": {
              "outlinewidth": 0,
              "ticks": ""
             }
            },
            "type": "scattergeo"
           }
          ],
          "scattergl": [
           {
            "marker": {
             "colorbar": {
              "outlinewidth": 0,
              "ticks": ""
             }
            },
            "type": "scattergl"
           }
          ],
          "scattermapbox": [
           {
            "marker": {
             "colorbar": {
              "outlinewidth": 0,
              "ticks": ""
             }
            },
            "type": "scattermapbox"
           }
          ],
          "scatterpolar": [
           {
            "marker": {
             "colorbar": {
              "outlinewidth": 0,
              "ticks": ""
             }
            },
            "type": "scatterpolar"
           }
          ],
          "scatterpolargl": [
           {
            "marker": {
             "colorbar": {
              "outlinewidth": 0,
              "ticks": ""
             }
            },
            "type": "scatterpolargl"
           }
          ],
          "scatterternary": [
           {
            "marker": {
             "colorbar": {
              "outlinewidth": 0,
              "ticks": ""
             }
            },
            "type": "scatterternary"
           }
          ],
          "surface": [
           {
            "colorbar": {
             "outlinewidth": 0,
             "ticks": ""
            },
            "colorscale": [
             [
              0,
              "#0d0887"
             ],
             [
              0.1111111111111111,
              "#46039f"
             ],
             [
              0.2222222222222222,
              "#7201a8"
             ],
             [
              0.3333333333333333,
              "#9c179e"
             ],
             [
              0.4444444444444444,
              "#bd3786"
             ],
             [
              0.5555555555555556,
              "#d8576b"
             ],
             [
              0.6666666666666666,
              "#ed7953"
             ],
             [
              0.7777777777777778,
              "#fb9f3a"
             ],
             [
              0.8888888888888888,
              "#fdca26"
             ],
             [
              1,
              "#f0f921"
             ]
            ],
            "type": "surface"
           }
          ],
          "table": [
           {
            "cells": {
             "fill": {
              "color": "#EBF0F8"
             },
             "line": {
              "color": "white"
             }
            },
            "header": {
             "fill": {
              "color": "#C8D4E3"
             },
             "line": {
              "color": "white"
             }
            },
            "type": "table"
           }
          ]
         },
         "layout": {
          "annotationdefaults": {
           "arrowcolor": "#2a3f5f",
           "arrowhead": 0,
           "arrowwidth": 1
          },
          "coloraxis": {
           "colorbar": {
            "outlinewidth": 0,
            "ticks": ""
           }
          },
          "colorscale": {
           "diverging": [
            [
             0,
             "#8e0152"
            ],
            [
             0.1,
             "#c51b7d"
            ],
            [
             0.2,
             "#de77ae"
            ],
            [
             0.3,
             "#f1b6da"
            ],
            [
             0.4,
             "#fde0ef"
            ],
            [
             0.5,
             "#f7f7f7"
            ],
            [
             0.6,
             "#e6f5d0"
            ],
            [
             0.7,
             "#b8e186"
            ],
            [
             0.8,
             "#7fbc41"
            ],
            [
             0.9,
             "#4d9221"
            ],
            [
             1,
             "#276419"
            ]
           ],
           "sequential": [
            [
             0,
             "#0d0887"
            ],
            [
             0.1111111111111111,
             "#46039f"
            ],
            [
             0.2222222222222222,
             "#7201a8"
            ],
            [
             0.3333333333333333,
             "#9c179e"
            ],
            [
             0.4444444444444444,
             "#bd3786"
            ],
            [
             0.5555555555555556,
             "#d8576b"
            ],
            [
             0.6666666666666666,
             "#ed7953"
            ],
            [
             0.7777777777777778,
             "#fb9f3a"
            ],
            [
             0.8888888888888888,
             "#fdca26"
            ],
            [
             1,
             "#f0f921"
            ]
           ],
           "sequentialminus": [
            [
             0,
             "#0d0887"
            ],
            [
             0.1111111111111111,
             "#46039f"
            ],
            [
             0.2222222222222222,
             "#7201a8"
            ],
            [
             0.3333333333333333,
             "#9c179e"
            ],
            [
             0.4444444444444444,
             "#bd3786"
            ],
            [
             0.5555555555555556,
             "#d8576b"
            ],
            [
             0.6666666666666666,
             "#ed7953"
            ],
            [
             0.7777777777777778,
             "#fb9f3a"
            ],
            [
             0.8888888888888888,
             "#fdca26"
            ],
            [
             1,
             "#f0f921"
            ]
           ]
          },
          "colorway": [
           "#636efa",
           "#EF553B",
           "#00cc96",
           "#ab63fa",
           "#FFA15A",
           "#19d3f3",
           "#FF6692",
           "#B6E880",
           "#FF97FF",
           "#FECB52"
          ],
          "font": {
           "color": "#2a3f5f"
          },
          "geo": {
           "bgcolor": "white",
           "lakecolor": "white",
           "landcolor": "#E5ECF6",
           "showlakes": true,
           "showland": true,
           "subunitcolor": "white"
          },
          "hoverlabel": {
           "align": "left"
          },
          "hovermode": "closest",
          "mapbox": {
           "style": "light"
          },
          "paper_bgcolor": "white",
          "plot_bgcolor": "#E5ECF6",
          "polar": {
           "angularaxis": {
            "gridcolor": "white",
            "linecolor": "white",
            "ticks": ""
           },
           "bgcolor": "#E5ECF6",
           "radialaxis": {
            "gridcolor": "white",
            "linecolor": "white",
            "ticks": ""
           }
          },
          "scene": {
           "xaxis": {
            "backgroundcolor": "#E5ECF6",
            "gridcolor": "white",
            "gridwidth": 2,
            "linecolor": "white",
            "showbackground": true,
            "ticks": "",
            "zerolinecolor": "white"
           },
           "yaxis": {
            "backgroundcolor": "#E5ECF6",
            "gridcolor": "white",
            "gridwidth": 2,
            "linecolor": "white",
            "showbackground": true,
            "ticks": "",
            "zerolinecolor": "white"
           },
           "zaxis": {
            "backgroundcolor": "#E5ECF6",
            "gridcolor": "white",
            "gridwidth": 2,
            "linecolor": "white",
            "showbackground": true,
            "ticks": "",
            "zerolinecolor": "white"
           }
          },
          "shapedefaults": {
           "line": {
            "color": "#2a3f5f"
           }
          },
          "ternary": {
           "aaxis": {
            "gridcolor": "white",
            "linecolor": "white",
            "ticks": ""
           },
           "baxis": {
            "gridcolor": "white",
            "linecolor": "white",
            "ticks": ""
           },
           "bgcolor": "#E5ECF6",
           "caxis": {
            "gridcolor": "white",
            "linecolor": "white",
            "ticks": ""
           }
          },
          "title": {
           "x": 0.05
          },
          "xaxis": {
           "automargin": true,
           "gridcolor": "white",
           "linecolor": "white",
           "ticks": "",
           "title": {
            "standoff": 15
           },
           "zerolinecolor": "white",
           "zerolinewidth": 2
          },
          "yaxis": {
           "automargin": true,
           "gridcolor": "white",
           "linecolor": "white",
           "ticks": "",
           "title": {
            "standoff": 15
           },
           "zerolinecolor": "white",
           "zerolinewidth": 2
          }
         }
        }
       }
      }
     },
     "metadata": {}
    }
   ],
   "source": [
    "fig = go.Figure()\n",
    "\n",
    "\n",
    "data = [1, 2, 3, 4, 5, 6, 7, 8, 9]\n",
    "fig.add_trace(go.Box(\n",
    "                    y= data,\n",
    "                    #x = [df3[\"switchId\"][0]],\n",
    "                    q1=[df3['d0'][0]], \n",
    "                    median=[df3['avg'][0]],\n",
    "                    q3=[df3['d1'][0]], \n",
    "                    lowerfence=[df3['min'][0]],\n",
    "                    upperfence=[df3['max'][0]]\n",
    "                    ))\n",
    "\n",
    "fig.show()"
   ]
  },
  {
   "cell_type": "code",
   "execution_count": 105,
   "metadata": {},
   "outputs": [
    {
     "output_type": "display_data",
     "data": {
      "application/vnd.plotly.v1+json": {
       "config": {
        "plotlyServerURL": "https://plot.ly"
       },
       "data": [
        {
         "lowerfence": [
          1
         ],
         "median": [
          2
         ],
         "q1": [
          1.5
         ],
         "q3": [
          2.3
         ],
         "type": "box",
         "upperfence": [
          3
         ],
         "y": [
          1,
          2,
          3,
          4,
          5,
          6,
          7,
          8,
          9
         ]
        }
       ],
       "layout": {
        "template": {
         "data": {
          "bar": [
           {
            "error_x": {
             "color": "#2a3f5f"
            },
            "error_y": {
             "color": "#2a3f5f"
            },
            "marker": {
             "line": {
              "color": "#E5ECF6",
              "width": 0.5
             }
            },
            "type": "bar"
           }
          ],
          "barpolar": [
           {
            "marker": {
             "line": {
              "color": "#E5ECF6",
              "width": 0.5
             }
            },
            "type": "barpolar"
           }
          ],
          "carpet": [
           {
            "aaxis": {
             "endlinecolor": "#2a3f5f",
             "gridcolor": "white",
             "linecolor": "white",
             "minorgridcolor": "white",
             "startlinecolor": "#2a3f5f"
            },
            "baxis": {
             "endlinecolor": "#2a3f5f",
             "gridcolor": "white",
             "linecolor": "white",
             "minorgridcolor": "white",
             "startlinecolor": "#2a3f5f"
            },
            "type": "carpet"
           }
          ],
          "choropleth": [
           {
            "colorbar": {
             "outlinewidth": 0,
             "ticks": ""
            },
            "type": "choropleth"
           }
          ],
          "contour": [
           {
            "colorbar": {
             "outlinewidth": 0,
             "ticks": ""
            },
            "colorscale": [
             [
              0,
              "#0d0887"
             ],
             [
              0.1111111111111111,
              "#46039f"
             ],
             [
              0.2222222222222222,
              "#7201a8"
             ],
             [
              0.3333333333333333,
              "#9c179e"
             ],
             [
              0.4444444444444444,
              "#bd3786"
             ],
             [
              0.5555555555555556,
              "#d8576b"
             ],
             [
              0.6666666666666666,
              "#ed7953"
             ],
             [
              0.7777777777777778,
              "#fb9f3a"
             ],
             [
              0.8888888888888888,
              "#fdca26"
             ],
             [
              1,
              "#f0f921"
             ]
            ],
            "type": "contour"
           }
          ],
          "contourcarpet": [
           {
            "colorbar": {
             "outlinewidth": 0,
             "ticks": ""
            },
            "type": "contourcarpet"
           }
          ],
          "heatmap": [
           {
            "colorbar": {
             "outlinewidth": 0,
             "ticks": ""
            },
            "colorscale": [
             [
              0,
              "#0d0887"
             ],
             [
              0.1111111111111111,
              "#46039f"
             ],
             [
              0.2222222222222222,
              "#7201a8"
             ],
             [
              0.3333333333333333,
              "#9c179e"
             ],
             [
              0.4444444444444444,
              "#bd3786"
             ],
             [
              0.5555555555555556,
              "#d8576b"
             ],
             [
              0.6666666666666666,
              "#ed7953"
             ],
             [
              0.7777777777777778,
              "#fb9f3a"
             ],
             [
              0.8888888888888888,
              "#fdca26"
             ],
             [
              1,
              "#f0f921"
             ]
            ],
            "type": "heatmap"
           }
          ],
          "heatmapgl": [
           {
            "colorbar": {
             "outlinewidth": 0,
             "ticks": ""
            },
            "colorscale": [
             [
              0,
              "#0d0887"
             ],
             [
              0.1111111111111111,
              "#46039f"
             ],
             [
              0.2222222222222222,
              "#7201a8"
             ],
             [
              0.3333333333333333,
              "#9c179e"
             ],
             [
              0.4444444444444444,
              "#bd3786"
             ],
             [
              0.5555555555555556,
              "#d8576b"
             ],
             [
              0.6666666666666666,
              "#ed7953"
             ],
             [
              0.7777777777777778,
              "#fb9f3a"
             ],
             [
              0.8888888888888888,
              "#fdca26"
             ],
             [
              1,
              "#f0f921"
             ]
            ],
            "type": "heatmapgl"
           }
          ],
          "histogram": [
           {
            "marker": {
             "colorbar": {
              "outlinewidth": 0,
              "ticks": ""
             }
            },
            "type": "histogram"
           }
          ],
          "histogram2d": [
           {
            "colorbar": {
             "outlinewidth": 0,
             "ticks": ""
            },
            "colorscale": [
             [
              0,
              "#0d0887"
             ],
             [
              0.1111111111111111,
              "#46039f"
             ],
             [
              0.2222222222222222,
              "#7201a8"
             ],
             [
              0.3333333333333333,
              "#9c179e"
             ],
             [
              0.4444444444444444,
              "#bd3786"
             ],
             [
              0.5555555555555556,
              "#d8576b"
             ],
             [
              0.6666666666666666,
              "#ed7953"
             ],
             [
              0.7777777777777778,
              "#fb9f3a"
             ],
             [
              0.8888888888888888,
              "#fdca26"
             ],
             [
              1,
              "#f0f921"
             ]
            ],
            "type": "histogram2d"
           }
          ],
          "histogram2dcontour": [
           {
            "colorbar": {
             "outlinewidth": 0,
             "ticks": ""
            },
            "colorscale": [
             [
              0,
              "#0d0887"
             ],
             [
              0.1111111111111111,
              "#46039f"
             ],
             [
              0.2222222222222222,
              "#7201a8"
             ],
             [
              0.3333333333333333,
              "#9c179e"
             ],
             [
              0.4444444444444444,
              "#bd3786"
             ],
             [
              0.5555555555555556,
              "#d8576b"
             ],
             [
              0.6666666666666666,
              "#ed7953"
             ],
             [
              0.7777777777777778,
              "#fb9f3a"
             ],
             [
              0.8888888888888888,
              "#fdca26"
             ],
             [
              1,
              "#f0f921"
             ]
            ],
            "type": "histogram2dcontour"
           }
          ],
          "mesh3d": [
           {
            "colorbar": {
             "outlinewidth": 0,
             "ticks": ""
            },
            "type": "mesh3d"
           }
          ],
          "parcoords": [
           {
            "line": {
             "colorbar": {
              "outlinewidth": 0,
              "ticks": ""
             }
            },
            "type": "parcoords"
           }
          ],
          "pie": [
           {
            "automargin": true,
            "type": "pie"
           }
          ],
          "scatter": [
           {
            "marker": {
             "colorbar": {
              "outlinewidth": 0,
              "ticks": ""
             }
            },
            "type": "scatter"
           }
          ],
          "scatter3d": [
           {
            "line": {
             "colorbar": {
              "outlinewidth": 0,
              "ticks": ""
             }
            },
            "marker": {
             "colorbar": {
              "outlinewidth": 0,
              "ticks": ""
             }
            },
            "type": "scatter3d"
           }
          ],
          "scattercarpet": [
           {
            "marker": {
             "colorbar": {
              "outlinewidth": 0,
              "ticks": ""
             }
            },
            "type": "scattercarpet"
           }
          ],
          "scattergeo": [
           {
            "marker": {
             "colorbar": {
              "outlinewidth": 0,
              "ticks": ""
             }
            },
            "type": "scattergeo"
           }
          ],
          "scattergl": [
           {
            "marker": {
             "colorbar": {
              "outlinewidth": 0,
              "ticks": ""
             }
            },
            "type": "scattergl"
           }
          ],
          "scattermapbox": [
           {
            "marker": {
             "colorbar": {
              "outlinewidth": 0,
              "ticks": ""
             }
            },
            "type": "scattermapbox"
           }
          ],
          "scatterpolar": [
           {
            "marker": {
             "colorbar": {
              "outlinewidth": 0,
              "ticks": ""
             }
            },
            "type": "scatterpolar"
           }
          ],
          "scatterpolargl": [
           {
            "marker": {
             "colorbar": {
              "outlinewidth": 0,
              "ticks": ""
             }
            },
            "type": "scatterpolargl"
           }
          ],
          "scatterternary": [
           {
            "marker": {
             "colorbar": {
              "outlinewidth": 0,
              "ticks": ""
             }
            },
            "type": "scatterternary"
           }
          ],
          "surface": [
           {
            "colorbar": {
             "outlinewidth": 0,
             "ticks": ""
            },
            "colorscale": [
             [
              0,
              "#0d0887"
             ],
             [
              0.1111111111111111,
              "#46039f"
             ],
             [
              0.2222222222222222,
              "#7201a8"
             ],
             [
              0.3333333333333333,
              "#9c179e"
             ],
             [
              0.4444444444444444,
              "#bd3786"
             ],
             [
              0.5555555555555556,
              "#d8576b"
             ],
             [
              0.6666666666666666,
              "#ed7953"
             ],
             [
              0.7777777777777778,
              "#fb9f3a"
             ],
             [
              0.8888888888888888,
              "#fdca26"
             ],
             [
              1,
              "#f0f921"
             ]
            ],
            "type": "surface"
           }
          ],
          "table": [
           {
            "cells": {
             "fill": {
              "color": "#EBF0F8"
             },
             "line": {
              "color": "white"
             }
            },
            "header": {
             "fill": {
              "color": "#C8D4E3"
             },
             "line": {
              "color": "white"
             }
            },
            "type": "table"
           }
          ]
         },
         "layout": {
          "annotationdefaults": {
           "arrowcolor": "#2a3f5f",
           "arrowhead": 0,
           "arrowwidth": 1
          },
          "coloraxis": {
           "colorbar": {
            "outlinewidth": 0,
            "ticks": ""
           }
          },
          "colorscale": {
           "diverging": [
            [
             0,
             "#8e0152"
            ],
            [
             0.1,
             "#c51b7d"
            ],
            [
             0.2,
             "#de77ae"
            ],
            [
             0.3,
             "#f1b6da"
            ],
            [
             0.4,
             "#fde0ef"
            ],
            [
             0.5,
             "#f7f7f7"
            ],
            [
             0.6,
             "#e6f5d0"
            ],
            [
             0.7,
             "#b8e186"
            ],
            [
             0.8,
             "#7fbc41"
            ],
            [
             0.9,
             "#4d9221"
            ],
            [
             1,
             "#276419"
            ]
           ],
           "sequential": [
            [
             0,
             "#0d0887"
            ],
            [
             0.1111111111111111,
             "#46039f"
            ],
            [
             0.2222222222222222,
             "#7201a8"
            ],
            [
             0.3333333333333333,
             "#9c179e"
            ],
            [
             0.4444444444444444,
             "#bd3786"
            ],
            [
             0.5555555555555556,
             "#d8576b"
            ],
            [
             0.6666666666666666,
             "#ed7953"
            ],
            [
             0.7777777777777778,
             "#fb9f3a"
            ],
            [
             0.8888888888888888,
             "#fdca26"
            ],
            [
             1,
             "#f0f921"
            ]
           ],
           "sequentialminus": [
            [
             0,
             "#0d0887"
            ],
            [
             0.1111111111111111,
             "#46039f"
            ],
            [
             0.2222222222222222,
             "#7201a8"
            ],
            [
             0.3333333333333333,
             "#9c179e"
            ],
            [
             0.4444444444444444,
             "#bd3786"
            ],
            [
             0.5555555555555556,
             "#d8576b"
            ],
            [
             0.6666666666666666,
             "#ed7953"
            ],
            [
             0.7777777777777778,
             "#fb9f3a"
            ],
            [
             0.8888888888888888,
             "#fdca26"
            ],
            [
             1,
             "#f0f921"
            ]
           ]
          },
          "colorway": [
           "#636efa",
           "#EF553B",
           "#00cc96",
           "#ab63fa",
           "#FFA15A",
           "#19d3f3",
           "#FF6692",
           "#B6E880",
           "#FF97FF",
           "#FECB52"
          ],
          "font": {
           "color": "#2a3f5f"
          },
          "geo": {
           "bgcolor": "white",
           "lakecolor": "white",
           "landcolor": "#E5ECF6",
           "showlakes": true,
           "showland": true,
           "subunitcolor": "white"
          },
          "hoverlabel": {
           "align": "left"
          },
          "hovermode": "closest",
          "mapbox": {
           "style": "light"
          },
          "paper_bgcolor": "white",
          "plot_bgcolor": "#E5ECF6",
          "polar": {
           "angularaxis": {
            "gridcolor": "white",
            "linecolor": "white",
            "ticks": ""
           },
           "bgcolor": "#E5ECF6",
           "radialaxis": {
            "gridcolor": "white",
            "linecolor": "white",
            "ticks": ""
           }
          },
          "scene": {
           "xaxis": {
            "backgroundcolor": "#E5ECF6",
            "gridcolor": "white",
            "gridwidth": 2,
            "linecolor": "white",
            "showbackground": true,
            "ticks": "",
            "zerolinecolor": "white"
           },
           "yaxis": {
            "backgroundcolor": "#E5ECF6",
            "gridcolor": "white",
            "gridwidth": 2,
            "linecolor": "white",
            "showbackground": true,
            "ticks": "",
            "zerolinecolor": "white"
           },
           "zaxis": {
            "backgroundcolor": "#E5ECF6",
            "gridcolor": "white",
            "gridwidth": 2,
            "linecolor": "white",
            "showbackground": true,
            "ticks": "",
            "zerolinecolor": "white"
           }
          },
          "shapedefaults": {
           "line": {
            "color": "#2a3f5f"
           }
          },
          "ternary": {
           "aaxis": {
            "gridcolor": "white",
            "linecolor": "white",
            "ticks": ""
           },
           "baxis": {
            "gridcolor": "white",
            "linecolor": "white",
            "ticks": ""
           },
           "bgcolor": "#E5ECF6",
           "caxis": {
            "gridcolor": "white",
            "linecolor": "white",
            "ticks": ""
           }
          },
          "title": {
           "x": 0.05
          },
          "xaxis": {
           "automargin": true,
           "gridcolor": "white",
           "linecolor": "white",
           "ticks": "",
           "title": {
            "standoff": 15
           },
           "zerolinecolor": "white",
           "zerolinewidth": 2
          },
          "yaxis": {
           "automargin": true,
           "gridcolor": "white",
           "linecolor": "white",
           "ticks": "",
           "title": {
            "standoff": 15
           },
           "zerolinecolor": "white",
           "zerolinewidth": 2
          }
         }
        }
       }
      }
     },
     "metadata": {}
    }
   ],
   "source": [
    "fig = go.Figure()\n",
    "\n",
    "\n",
    "data = [1, 2, 3, 4, 5, 6, 7, 8, 9]\n",
    "fig.add_trace(go.Box(\n",
    "                    y= data,\n",
    "                    #x = [df3[\"switchId\"][0]],\n",
    "                    q1=[1.5], \n",
    "                    median=[2],\n",
    "                    q3=[2.3], \n",
    "                    lowerfence=[1],\n",
    "                    upperfence=[3]\n",
    "                    ))\n",
    "\n",
    "fig.show()"
   ]
  },
  {
   "cell_type": "code",
   "execution_count": 108,
   "metadata": {},
   "outputs": [
    {
     "output_type": "display_data",
     "data": {
      "application/vnd.plotly.v1+json": {
       "config": {
        "plotlyServerURL": "https://plot.ly"
       },
       "data": [
        {
         "lowerfence": [
          -1,
          0,
          1
         ],
         "mean": [
          2.2,
          2.8,
          3.2
         ],
         "median": [
          4,
          5,
          6
         ],
         "name": "Precompiled Quartiles",
         "notchspan": [
          0.2,
          0.4,
          0.6
         ],
         "q1": [
          1,
          2,
          3
         ],
         "q3": [
          7,
          8,
          9
         ],
         "sd": [
          0.2,
          0.4,
          0.6
         ],
         "type": "box",
         "upperfence": [
          5,
          6,
          7
         ],
         "y": [
          [
           0,
           1,
           2,
           3,
           4,
           5,
           6,
           7,
           8,
           9
          ],
          [
           0,
           1,
           2,
           3,
           4,
           5,
           6,
           7,
           8,
           9
          ],
          [
           0,
           1,
           2,
           3,
           4,
           5,
           6,
           7,
           8,
           9
          ]
         ]
        }
       ],
       "layout": {
        "template": {
         "data": {
          "bar": [
           {
            "error_x": {
             "color": "#2a3f5f"
            },
            "error_y": {
             "color": "#2a3f5f"
            },
            "marker": {
             "line": {
              "color": "#E5ECF6",
              "width": 0.5
             }
            },
            "type": "bar"
           }
          ],
          "barpolar": [
           {
            "marker": {
             "line": {
              "color": "#E5ECF6",
              "width": 0.5
             }
            },
            "type": "barpolar"
           }
          ],
          "carpet": [
           {
            "aaxis": {
             "endlinecolor": "#2a3f5f",
             "gridcolor": "white",
             "linecolor": "white",
             "minorgridcolor": "white",
             "startlinecolor": "#2a3f5f"
            },
            "baxis": {
             "endlinecolor": "#2a3f5f",
             "gridcolor": "white",
             "linecolor": "white",
             "minorgridcolor": "white",
             "startlinecolor": "#2a3f5f"
            },
            "type": "carpet"
           }
          ],
          "choropleth": [
           {
            "colorbar": {
             "outlinewidth": 0,
             "ticks": ""
            },
            "type": "choropleth"
           }
          ],
          "contour": [
           {
            "colorbar": {
             "outlinewidth": 0,
             "ticks": ""
            },
            "colorscale": [
             [
              0,
              "#0d0887"
             ],
             [
              0.1111111111111111,
              "#46039f"
             ],
             [
              0.2222222222222222,
              "#7201a8"
             ],
             [
              0.3333333333333333,
              "#9c179e"
             ],
             [
              0.4444444444444444,
              "#bd3786"
             ],
             [
              0.5555555555555556,
              "#d8576b"
             ],
             [
              0.6666666666666666,
              "#ed7953"
             ],
             [
              0.7777777777777778,
              "#fb9f3a"
             ],
             [
              0.8888888888888888,
              "#fdca26"
             ],
             [
              1,
              "#f0f921"
             ]
            ],
            "type": "contour"
           }
          ],
          "contourcarpet": [
           {
            "colorbar": {
             "outlinewidth": 0,
             "ticks": ""
            },
            "type": "contourcarpet"
           }
          ],
          "heatmap": [
           {
            "colorbar": {
             "outlinewidth": 0,
             "ticks": ""
            },
            "colorscale": [
             [
              0,
              "#0d0887"
             ],
             [
              0.1111111111111111,
              "#46039f"
             ],
             [
              0.2222222222222222,
              "#7201a8"
             ],
             [
              0.3333333333333333,
              "#9c179e"
             ],
             [
              0.4444444444444444,
              "#bd3786"
             ],
             [
              0.5555555555555556,
              "#d8576b"
             ],
             [
              0.6666666666666666,
              "#ed7953"
             ],
             [
              0.7777777777777778,
              "#fb9f3a"
             ],
             [
              0.8888888888888888,
              "#fdca26"
             ],
             [
              1,
              "#f0f921"
             ]
            ],
            "type": "heatmap"
           }
          ],
          "heatmapgl": [
           {
            "colorbar": {
             "outlinewidth": 0,
             "ticks": ""
            },
            "colorscale": [
             [
              0,
              "#0d0887"
             ],
             [
              0.1111111111111111,
              "#46039f"
             ],
             [
              0.2222222222222222,
              "#7201a8"
             ],
             [
              0.3333333333333333,
              "#9c179e"
             ],
             [
              0.4444444444444444,
              "#bd3786"
             ],
             [
              0.5555555555555556,
              "#d8576b"
             ],
             [
              0.6666666666666666,
              "#ed7953"
             ],
             [
              0.7777777777777778,
              "#fb9f3a"
             ],
             [
              0.8888888888888888,
              "#fdca26"
             ],
             [
              1,
              "#f0f921"
             ]
            ],
            "type": "heatmapgl"
           }
          ],
          "histogram": [
           {
            "marker": {
             "colorbar": {
              "outlinewidth": 0,
              "ticks": ""
             }
            },
            "type": "histogram"
           }
          ],
          "histogram2d": [
           {
            "colorbar": {
             "outlinewidth": 0,
             "ticks": ""
            },
            "colorscale": [
             [
              0,
              "#0d0887"
             ],
             [
              0.1111111111111111,
              "#46039f"
             ],
             [
              0.2222222222222222,
              "#7201a8"
             ],
             [
              0.3333333333333333,
              "#9c179e"
             ],
             [
              0.4444444444444444,
              "#bd3786"
             ],
             [
              0.5555555555555556,
              "#d8576b"
             ],
             [
              0.6666666666666666,
              "#ed7953"
             ],
             [
              0.7777777777777778,
              "#fb9f3a"
             ],
             [
              0.8888888888888888,
              "#fdca26"
             ],
             [
              1,
              "#f0f921"
             ]
            ],
            "type": "histogram2d"
           }
          ],
          "histogram2dcontour": [
           {
            "colorbar": {
             "outlinewidth": 0,
             "ticks": ""
            },
            "colorscale": [
             [
              0,
              "#0d0887"
             ],
             [
              0.1111111111111111,
              "#46039f"
             ],
             [
              0.2222222222222222,
              "#7201a8"
             ],
             [
              0.3333333333333333,
              "#9c179e"
             ],
             [
              0.4444444444444444,
              "#bd3786"
             ],
             [
              0.5555555555555556,
              "#d8576b"
             ],
             [
              0.6666666666666666,
              "#ed7953"
             ],
             [
              0.7777777777777778,
              "#fb9f3a"
             ],
             [
              0.8888888888888888,
              "#fdca26"
             ],
             [
              1,
              "#f0f921"
             ]
            ],
            "type": "histogram2dcontour"
           }
          ],
          "mesh3d": [
           {
            "colorbar": {
             "outlinewidth": 0,
             "ticks": ""
            },
            "type": "mesh3d"
           }
          ],
          "parcoords": [
           {
            "line": {
             "colorbar": {
              "outlinewidth": 0,
              "ticks": ""
             }
            },
            "type": "parcoords"
           }
          ],
          "pie": [
           {
            "automargin": true,
            "type": "pie"
           }
          ],
          "scatter": [
           {
            "marker": {
             "colorbar": {
              "outlinewidth": 0,
              "ticks": ""
             }
            },
            "type": "scatter"
           }
          ],
          "scatter3d": [
           {
            "line": {
             "colorbar": {
              "outlinewidth": 0,
              "ticks": ""
             }
            },
            "marker": {
             "colorbar": {
              "outlinewidth": 0,
              "ticks": ""
             }
            },
            "type": "scatter3d"
           }
          ],
          "scattercarpet": [
           {
            "marker": {
             "colorbar": {
              "outlinewidth": 0,
              "ticks": ""
             }
            },
            "type": "scattercarpet"
           }
          ],
          "scattergeo": [
           {
            "marker": {
             "colorbar": {
              "outlinewidth": 0,
              "ticks": ""
             }
            },
            "type": "scattergeo"
           }
          ],
          "scattergl": [
           {
            "marker": {
             "colorbar": {
              "outlinewidth": 0,
              "ticks": ""
             }
            },
            "type": "scattergl"
           }
          ],
          "scattermapbox": [
           {
            "marker": {
             "colorbar": {
              "outlinewidth": 0,
              "ticks": ""
             }
            },
            "type": "scattermapbox"
           }
          ],
          "scatterpolar": [
           {
            "marker": {
             "colorbar": {
              "outlinewidth": 0,
              "ticks": ""
             }
            },
            "type": "scatterpolar"
           }
          ],
          "scatterpolargl": [
           {
            "marker": {
             "colorbar": {
              "outlinewidth": 0,
              "ticks": ""
             }
            },
            "type": "scatterpolargl"
           }
          ],
          "scatterternary": [
           {
            "marker": {
             "colorbar": {
              "outlinewidth": 0,
              "ticks": ""
             }
            },
            "type": "scatterternary"
           }
          ],
          "surface": [
           {
            "colorbar": {
             "outlinewidth": 0,
             "ticks": ""
            },
            "colorscale": [
             [
              0,
              "#0d0887"
             ],
             [
              0.1111111111111111,
              "#46039f"
             ],
             [
              0.2222222222222222,
              "#7201a8"
             ],
             [
              0.3333333333333333,
              "#9c179e"
             ],
             [
              0.4444444444444444,
              "#bd3786"
             ],
             [
              0.5555555555555556,
              "#d8576b"
             ],
             [
              0.6666666666666666,
              "#ed7953"
             ],
             [
              0.7777777777777778,
              "#fb9f3a"
             ],
             [
              0.8888888888888888,
              "#fdca26"
             ],
             [
              1,
              "#f0f921"
             ]
            ],
            "type": "surface"
           }
          ],
          "table": [
           {
            "cells": {
             "fill": {
              "color": "#EBF0F8"
             },
             "line": {
              "color": "white"
             }
            },
            "header": {
             "fill": {
              "color": "#C8D4E3"
             },
             "line": {
              "color": "white"
             }
            },
            "type": "table"
           }
          ]
         },
         "layout": {
          "annotationdefaults": {
           "arrowcolor": "#2a3f5f",
           "arrowhead": 0,
           "arrowwidth": 1
          },
          "coloraxis": {
           "colorbar": {
            "outlinewidth": 0,
            "ticks": ""
           }
          },
          "colorscale": {
           "diverging": [
            [
             0,
             "#8e0152"
            ],
            [
             0.1,
             "#c51b7d"
            ],
            [
             0.2,
             "#de77ae"
            ],
            [
             0.3,
             "#f1b6da"
            ],
            [
             0.4,
             "#fde0ef"
            ],
            [
             0.5,
             "#f7f7f7"
            ],
            [
             0.6,
             "#e6f5d0"
            ],
            [
             0.7,
             "#b8e186"
            ],
            [
             0.8,
             "#7fbc41"
            ],
            [
             0.9,
             "#4d9221"
            ],
            [
             1,
             "#276419"
            ]
           ],
           "sequential": [
            [
             0,
             "#0d0887"
            ],
            [
             0.1111111111111111,
             "#46039f"
            ],
            [
             0.2222222222222222,
             "#7201a8"
            ],
            [
             0.3333333333333333,
             "#9c179e"
            ],
            [
             0.4444444444444444,
             "#bd3786"
            ],
            [
             0.5555555555555556,
             "#d8576b"
            ],
            [
             0.6666666666666666,
             "#ed7953"
            ],
            [
             0.7777777777777778,
             "#fb9f3a"
            ],
            [
             0.8888888888888888,
             "#fdca26"
            ],
            [
             1,
             "#f0f921"
            ]
           ],
           "sequentialminus": [
            [
             0,
             "#0d0887"
            ],
            [
             0.1111111111111111,
             "#46039f"
            ],
            [
             0.2222222222222222,
             "#7201a8"
            ],
            [
             0.3333333333333333,
             "#9c179e"
            ],
            [
             0.4444444444444444,
             "#bd3786"
            ],
            [
             0.5555555555555556,
             "#d8576b"
            ],
            [
             0.6666666666666666,
             "#ed7953"
            ],
            [
             0.7777777777777778,
             "#fb9f3a"
            ],
            [
             0.8888888888888888,
             "#fdca26"
            ],
            [
             1,
             "#f0f921"
            ]
           ]
          },
          "colorway": [
           "#636efa",
           "#EF553B",
           "#00cc96",
           "#ab63fa",
           "#FFA15A",
           "#19d3f3",
           "#FF6692",
           "#B6E880",
           "#FF97FF",
           "#FECB52"
          ],
          "font": {
           "color": "#2a3f5f"
          },
          "geo": {
           "bgcolor": "white",
           "lakecolor": "white",
           "landcolor": "#E5ECF6",
           "showlakes": true,
           "showland": true,
           "subunitcolor": "white"
          },
          "hoverlabel": {
           "align": "left"
          },
          "hovermode": "closest",
          "mapbox": {
           "style": "light"
          },
          "paper_bgcolor": "white",
          "plot_bgcolor": "#E5ECF6",
          "polar": {
           "angularaxis": {
            "gridcolor": "white",
            "linecolor": "white",
            "ticks": ""
           },
           "bgcolor": "#E5ECF6",
           "radialaxis": {
            "gridcolor": "white",
            "linecolor": "white",
            "ticks": ""
           }
          },
          "scene": {
           "xaxis": {
            "backgroundcolor": "#E5ECF6",
            "gridcolor": "white",
            "gridwidth": 2,
            "linecolor": "white",
            "showbackground": true,
            "ticks": "",
            "zerolinecolor": "white"
           },
           "yaxis": {
            "backgroundcolor": "#E5ECF6",
            "gridcolor": "white",
            "gridwidth": 2,
            "linecolor": "white",
            "showbackground": true,
            "ticks": "",
            "zerolinecolor": "white"
           },
           "zaxis": {
            "backgroundcolor": "#E5ECF6",
            "gridcolor": "white",
            "gridwidth": 2,
            "linecolor": "white",
            "showbackground": true,
            "ticks": "",
            "zerolinecolor": "white"
           }
          },
          "shapedefaults": {
           "line": {
            "color": "#2a3f5f"
           }
          },
          "ternary": {
           "aaxis": {
            "gridcolor": "white",
            "linecolor": "white",
            "ticks": ""
           },
           "baxis": {
            "gridcolor": "white",
            "linecolor": "white",
            "ticks": ""
           },
           "bgcolor": "#E5ECF6",
           "caxis": {
            "gridcolor": "white",
            "linecolor": "white",
            "ticks": ""
           }
          },
          "title": {
           "x": 0.05
          },
          "xaxis": {
           "automargin": true,
           "gridcolor": "white",
           "linecolor": "white",
           "ticks": "",
           "title": {
            "standoff": 15
           },
           "zerolinecolor": "white",
           "zerolinewidth": 2
          },
          "yaxis": {
           "automargin": true,
           "gridcolor": "white",
           "linecolor": "white",
           "ticks": "",
           "title": {
            "standoff": 15
           },
           "zerolinecolor": "white",
           "zerolinewidth": 2
          }
         }
        }
       }
      }
     },
     "metadata": {}
    }
   ],
   "source": [
    "import plotly.graph_objects as go\n",
    "\n",
    "fig = go.Figure()\n",
    "\n",
    "fig.add_trace(go.Box(y=[\n",
    "        [ 0, 1, 2, 3, 4, 5, 6, 7, 8, 9 ],\n",
    "        [ 0, 1, 2, 3, 4, 5, 6, 7, 8, 9 ],\n",
    "        [ 0, 1, 2, 3, 4, 5, 6, 7, 8, 9 ]\n",
    "      ], name=\"Precompiled Quartiles\"))\n",
    "\n",
    "fig.update_traces(q1=[ 1, 2, 3 ], median=[ 4, 5, 6 ],\n",
    "                  q3=[ 7, 8, 9 ], lowerfence=[-1, 0, 1],\n",
    "                  upperfence=[5, 6, 7], mean=[ 2.2, 2.8, 3.2 ],\n",
    "                  sd=[ 0.2, 0.4, 0.6 ], notchspan=[ 0.2, 0.4, 0.6 ] )\n",
    "\n",
    "fig.show()"
   ]
  },
  {
   "cell_type": "code",
   "execution_count": null,
   "metadata": {},
   "outputs": [],
   "source": []
  }
 ],
 "metadata": {
  "language_info": {
   "codemirror_mode": {
    "name": "ipython",
    "version": 3
   },
   "file_extension": ".py",
   "mimetype": "text/x-python",
   "name": "python",
   "nbconvert_exporter": "python",
   "pygments_lexer": "ipython3",
   "version": "3.7.7-final"
  },
  "orig_nbformat": 2,
  "kernelspec": {
   "name": "python37764bitvenvvenv6f01bbe94ad54120a0f6e41e10918876",
   "display_name": "Python 3.7.7 64-bit ('.venv': venv)"
  }
 },
 "nbformat": 4,
 "nbformat_minor": 2
}