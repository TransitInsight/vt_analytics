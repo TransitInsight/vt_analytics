{
 "cells": [
  {
   "cell_type": "code",
   "execution_count": 1,
   "metadata": {},
   "outputs": [],
   "source": [
    "import dash_core_components as dcc\n",
    "import dash_html_components as html\n",
    "import dash_bootstrap_components as dbc\n",
    "from dash.dependencies import Input, Output, State\n",
    "from app import app\n",
    "\n",
    "import math\n",
    "import numpy as np\n",
    "import pandas as pd\n",
    "import plotly.offline as pyo\n",
    "import plotly.express as px\n",
    "import plotly.graph_objs as go\n",
    "import dash as dash\n",
    "#import index \n",
    "\n",
    "from datetime import datetime as dt\n",
    "from datetime import timedelta\n",
    "import re\n",
    "import multiprocessing as mp\n",
    "\n",
    "from modules import module_switch as ms\n",
    "\n",
    "import util as util"
   ]
  },
  {
   "cell_type": "code",
   "execution_count": 4,
   "metadata": {},
   "outputs": [],
   "source": [
    "start_date = dt(2014, 1, 1)\n",
    "end_date = dt(2014, 1, 2)\n",
    "start_date, end_date  = util.date2str2(start_date, end_date )"
   ]
  },
  {
   "cell_type": "code",
   "execution_count": 5,
   "metadata": {},
   "outputs": [
    {
     "output_type": "execute_result",
     "data": {
      "text/plain": "      switchCommand switchCommandDesc statusDesc positionDesc  \\\n0                 0        No Command     Locked        Right   \n1                 1         Move Left     Locked        Right   \n2                 0        No Command     Locked        Right   \n3                 0        No Command   UnLocked       Moving   \n4                 0        No Command     Locked         Left   \n...             ...               ...        ...          ...   \n2423              0        No Command     Locked         Left   \n2424              2        Move Right     Locked         Left   \n2425              0        No Command     Locked         Left   \n2426              0        No Command   UnLocked       Moving   \n2427              0        No Command     Locked        Right   \n\n                    loggedAt  switchId  \n0    2014-01-01 00:35:24.660       101  \n1    2014-01-01 00:38:00.320       101  \n2    2014-01-01 00:38:01.360       101  \n3    2014-01-01 00:38:02.410       101  \n4    2014-01-01 00:38:05.540       101  \n...                      ...       ...  \n2423 2014-01-01 23:58:43.960       101  \n2424 2014-01-01 23:59:21.540       101  \n2425 2014-01-01 23:59:22.580       101  \n2426 2014-01-01 23:59:23.630       101  \n2427 2014-01-01 23:59:26.760       101  \n\n[2428 rows x 6 columns]",
      "text/html": "<div>\n<style scoped>\n    .dataframe tbody tr th:only-of-type {\n        vertical-align: middle;\n    }\n\n    .dataframe tbody tr th {\n        vertical-align: top;\n    }\n\n    .dataframe thead th {\n        text-align: right;\n    }\n</style>\n<table border=\"1\" class=\"dataframe\">\n  <thead>\n    <tr style=\"text-align: right;\">\n      <th></th>\n      <th>switchCommand</th>\n      <th>switchCommandDesc</th>\n      <th>statusDesc</th>\n      <th>positionDesc</th>\n      <th>loggedAt</th>\n      <th>switchId</th>\n    </tr>\n  </thead>\n  <tbody>\n    <tr>\n      <th>0</th>\n      <td>0</td>\n      <td>No Command</td>\n      <td>Locked</td>\n      <td>Right</td>\n      <td>2014-01-01 00:35:24.660</td>\n      <td>101</td>\n    </tr>\n    <tr>\n      <th>1</th>\n      <td>1</td>\n      <td>Move Left</td>\n      <td>Locked</td>\n      <td>Right</td>\n      <td>2014-01-01 00:38:00.320</td>\n      <td>101</td>\n    </tr>\n    <tr>\n      <th>2</th>\n      <td>0</td>\n      <td>No Command</td>\n      <td>Locked</td>\n      <td>Right</td>\n      <td>2014-01-01 00:38:01.360</td>\n      <td>101</td>\n    </tr>\n    <tr>\n      <th>3</th>\n      <td>0</td>\n      <td>No Command</td>\n      <td>UnLocked</td>\n      <td>Moving</td>\n      <td>2014-01-01 00:38:02.410</td>\n      <td>101</td>\n    </tr>\n    <tr>\n      <th>4</th>\n      <td>0</td>\n      <td>No Command</td>\n      <td>Locked</td>\n      <td>Left</td>\n      <td>2014-01-01 00:38:05.540</td>\n      <td>101</td>\n    </tr>\n    <tr>\n      <th>...</th>\n      <td>...</td>\n      <td>...</td>\n      <td>...</td>\n      <td>...</td>\n      <td>...</td>\n      <td>...</td>\n    </tr>\n    <tr>\n      <th>2423</th>\n      <td>0</td>\n      <td>No Command</td>\n      <td>Locked</td>\n      <td>Left</td>\n      <td>2014-01-01 23:58:43.960</td>\n      <td>101</td>\n    </tr>\n    <tr>\n      <th>2424</th>\n      <td>2</td>\n      <td>Move Right</td>\n      <td>Locked</td>\n      <td>Left</td>\n      <td>2014-01-01 23:59:21.540</td>\n      <td>101</td>\n    </tr>\n    <tr>\n      <th>2425</th>\n      <td>0</td>\n      <td>No Command</td>\n      <td>Locked</td>\n      <td>Left</td>\n      <td>2014-01-01 23:59:22.580</td>\n      <td>101</td>\n    </tr>\n    <tr>\n      <th>2426</th>\n      <td>0</td>\n      <td>No Command</td>\n      <td>UnLocked</td>\n      <td>Moving</td>\n      <td>2014-01-01 23:59:23.630</td>\n      <td>101</td>\n    </tr>\n    <tr>\n      <th>2427</th>\n      <td>0</td>\n      <td>No Command</td>\n      <td>Locked</td>\n      <td>Right</td>\n      <td>2014-01-01 23:59:26.760</td>\n      <td>101</td>\n    </tr>\n  </tbody>\n</table>\n<p>2428 rows × 6 columns</p>\n</div>"
     },
     "metadata": {},
     "execution_count": 5
    }
   ],
   "source": [
    "df = ms.get_switch_linechart_data(101, start_date, end_date)\n",
    "df"
   ]
  },
  {
   "cell_type": "code",
   "execution_count": 15,
   "metadata": {},
   "outputs": [
    {
     "output_type": "execute_result",
     "data": {
      "text/plain": "      switchCommand switchCommandDesc statusDesc positionDesc  \\\n0                 0        No Command     Locked        Right   \n1                 1         Move Left     Locked        Right   \n2                 0        No Command     Locked        Right   \n3                 0        No Command   UnLocked       Moving   \n4                 0        No Command     Locked         Left   \n...             ...               ...        ...          ...   \n2423              0        No Command     Locked         Left   \n2424              2        Move Right     Locked         Left   \n2425              0        No Command     Locked         Left   \n2426              0        No Command   UnLocked       Moving   \n2427              0        No Command     Locked        Right   \n\n                    loggedAt  switchId    new  \n0    2014-01-01 00:35:24.660       101   True  \n1    2014-01-01 00:38:00.320       101   True  \n2    2014-01-01 00:38:01.360       101   True  \n3    2014-01-01 00:38:02.410       101  False  \n4    2014-01-01 00:38:05.540       101  False  \n...                      ...       ...    ...  \n2423 2014-01-01 23:58:43.960       101  False  \n2424 2014-01-01 23:59:21.540       101   True  \n2425 2014-01-01 23:59:22.580       101   True  \n2426 2014-01-01 23:59:23.630       101  False  \n2427 2014-01-01 23:59:26.760       101  False  \n\n[2428 rows x 7 columns]",
      "text/html": "<div>\n<style scoped>\n    .dataframe tbody tr th:only-of-type {\n        vertical-align: middle;\n    }\n\n    .dataframe tbody tr th {\n        vertical-align: top;\n    }\n\n    .dataframe thead th {\n        text-align: right;\n    }\n</style>\n<table border=\"1\" class=\"dataframe\">\n  <thead>\n    <tr style=\"text-align: right;\">\n      <th></th>\n      <th>switchCommand</th>\n      <th>switchCommandDesc</th>\n      <th>statusDesc</th>\n      <th>positionDesc</th>\n      <th>loggedAt</th>\n      <th>switchId</th>\n      <th>new</th>\n    </tr>\n  </thead>\n  <tbody>\n    <tr>\n      <th>0</th>\n      <td>0</td>\n      <td>No Command</td>\n      <td>Locked</td>\n      <td>Right</td>\n      <td>2014-01-01 00:35:24.660</td>\n      <td>101</td>\n      <td>True</td>\n    </tr>\n    <tr>\n      <th>1</th>\n      <td>1</td>\n      <td>Move Left</td>\n      <td>Locked</td>\n      <td>Right</td>\n      <td>2014-01-01 00:38:00.320</td>\n      <td>101</td>\n      <td>True</td>\n    </tr>\n    <tr>\n      <th>2</th>\n      <td>0</td>\n      <td>No Command</td>\n      <td>Locked</td>\n      <td>Right</td>\n      <td>2014-01-01 00:38:01.360</td>\n      <td>101</td>\n      <td>True</td>\n    </tr>\n    <tr>\n      <th>3</th>\n      <td>0</td>\n      <td>No Command</td>\n      <td>UnLocked</td>\n      <td>Moving</td>\n      <td>2014-01-01 00:38:02.410</td>\n      <td>101</td>\n      <td>False</td>\n    </tr>\n    <tr>\n      <th>4</th>\n      <td>0</td>\n      <td>No Command</td>\n      <td>Locked</td>\n      <td>Left</td>\n      <td>2014-01-01 00:38:05.540</td>\n      <td>101</td>\n      <td>False</td>\n    </tr>\n    <tr>\n      <th>...</th>\n      <td>...</td>\n      <td>...</td>\n      <td>...</td>\n      <td>...</td>\n      <td>...</td>\n      <td>...</td>\n      <td>...</td>\n    </tr>\n    <tr>\n      <th>2423</th>\n      <td>0</td>\n      <td>No Command</td>\n      <td>Locked</td>\n      <td>Left</td>\n      <td>2014-01-01 23:58:43.960</td>\n      <td>101</td>\n      <td>False</td>\n    </tr>\n    <tr>\n      <th>2424</th>\n      <td>2</td>\n      <td>Move Right</td>\n      <td>Locked</td>\n      <td>Left</td>\n      <td>2014-01-01 23:59:21.540</td>\n      <td>101</td>\n      <td>True</td>\n    </tr>\n    <tr>\n      <th>2425</th>\n      <td>0</td>\n      <td>No Command</td>\n      <td>Locked</td>\n      <td>Left</td>\n      <td>2014-01-01 23:59:22.580</td>\n      <td>101</td>\n      <td>True</td>\n    </tr>\n    <tr>\n      <th>2426</th>\n      <td>0</td>\n      <td>No Command</td>\n      <td>UnLocked</td>\n      <td>Moving</td>\n      <td>2014-01-01 23:59:23.630</td>\n      <td>101</td>\n      <td>False</td>\n    </tr>\n    <tr>\n      <th>2427</th>\n      <td>0</td>\n      <td>No Command</td>\n      <td>Locked</td>\n      <td>Right</td>\n      <td>2014-01-01 23:59:26.760</td>\n      <td>101</td>\n      <td>False</td>\n    </tr>\n  </tbody>\n</table>\n<p>2428 rows × 7 columns</p>\n</div>"
     },
     "metadata": {},
     "execution_count": 15
    }
   ],
   "source": [
    "df1 = df.assign(new=df[\"switchCommand\"].diff().ne(0)) #.cumsum())\n",
    "df1"
   ]
  },
  {
   "cell_type": "code",
   "execution_count": null,
   "metadata": {},
   "outputs": [],
   "source": []
  }
 ],
 "metadata": {
  "language_info": {
   "codemirror_mode": {
    "name": "ipython",
    "version": 3
   },
   "file_extension": ".py",
   "mimetype": "text/x-python",
   "name": "python",
   "nbconvert_exporter": "python",
   "pygments_lexer": "ipython3",
   "version": 3
  },
  "orig_nbformat": 2,
  "kernelspec": {
   "name": "python_defaultSpec_1594079314901",
   "display_name": "Python 3.7.7 64-bit ('.venv': venv)"
  }
 },
 "nbformat": 4,
 "nbformat_minor": 2
}