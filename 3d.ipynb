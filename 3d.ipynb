{
 "cells": [
  {
   "cell_type": "code",
   "execution_count": 5,
   "metadata": {},
   "outputs": [],
   "source": [
    "import dash_core_components as dcc\n",
    "import dash_html_components as html\n",
    "import dash_bootstrap_components as dbc\n",
    "from dash.dependencies import Input, Output, State\n",
    "from app import app\n",
    "\n",
    "import math\n",
    "import numpy as np\n",
    "import pandas as pd\n",
    "import plotly.offline as pyo\n",
    "import plotly.express as px\n",
    "import plotly.graph_objs as go\n",
    "import dash as dash\n",
    "import json\n",
    "from datetime import datetime as dt\n",
    "from datetime import timedelta\n",
    "import re\n",
    "\n",
    "from modules import module_vobcfault\n",
    "from modules import module_commLoss\n",
    "from views.ViewTrainmoveClass import ViewTrainmoveClass\n",
    "from views.view_commLossListClass import ViewCommLossListClass\n",
    "\n",
    "\n",
    "import util as util\n",
    "\n"
   ]
  },
  {
   "cell_type": "code",
   "execution_count": 6,
   "metadata": {},
   "outputs": [],
   "source": [
    "start_date = dt(2015, 1, 1)\n",
    "end_date = dt(2016, 1, 1)\n",
    "start_date, end_date  = util.date2str2(start_date, end_date )"
   ]
  },
  {
   "cell_type": "code",
   "execution_count": 13,
   "metadata": {},
   "outputs": [],
   "source": [
    "df = pd.DataFrame()\n",
    "for i in range(5):\n",
    "    df1 = module_commLoss.get_commLoss_by_vobcid_loc(start_date, end_date, None, None, i+1)\n",
    "    df1[\"commType\"] = i+1\n",
    "    df = df.append(df1)"
   ]
  },
  {
   "cell_type": "code",
   "execution_count": 14,
   "metadata": {},
   "outputs": [
    {
     "output_type": "execute_result",
     "data": {
      "text/plain": "     vobcid locationName  commLossCount  commType\n0        24      POP-BLA            283         1\n1       248      POP-BLA            246         1\n2       230      POP-BLA            236         1\n3        86      EAI-BLA            208         1\n4       240          STR            196         1\n..      ...          ...            ...       ...\n295      96         BANH            217         5\n296     140         BANH            217         5\n297       2      LAP-ALS            216         5\n298     230      LAP-ALS            216         5\n299     300          BOC            216         5\n\n[1500 rows x 4 columns]",
      "text/html": "<div>\n<style scoped>\n    .dataframe tbody tr th:only-of-type {\n        vertical-align: middle;\n    }\n\n    .dataframe tbody tr th {\n        vertical-align: top;\n    }\n\n    .dataframe thead th {\n        text-align: right;\n    }\n</style>\n<table border=\"1\" class=\"dataframe\">\n  <thead>\n    <tr style=\"text-align: right;\">\n      <th></th>\n      <th>vobcid</th>\n      <th>locationName</th>\n      <th>commLossCount</th>\n      <th>commType</th>\n    </tr>\n  </thead>\n  <tbody>\n    <tr>\n      <th>0</th>\n      <td>24</td>\n      <td>POP-BLA</td>\n      <td>283</td>\n      <td>1</td>\n    </tr>\n    <tr>\n      <th>1</th>\n      <td>248</td>\n      <td>POP-BLA</td>\n      <td>246</td>\n      <td>1</td>\n    </tr>\n    <tr>\n      <th>2</th>\n      <td>230</td>\n      <td>POP-BLA</td>\n      <td>236</td>\n      <td>1</td>\n    </tr>\n    <tr>\n      <th>3</th>\n      <td>86</td>\n      <td>EAI-BLA</td>\n      <td>208</td>\n      <td>1</td>\n    </tr>\n    <tr>\n      <th>4</th>\n      <td>240</td>\n      <td>STR</td>\n      <td>196</td>\n      <td>1</td>\n    </tr>\n    <tr>\n      <th>...</th>\n      <td>...</td>\n      <td>...</td>\n      <td>...</td>\n      <td>...</td>\n    </tr>\n    <tr>\n      <th>295</th>\n      <td>96</td>\n      <td>BANH</td>\n      <td>217</td>\n      <td>5</td>\n    </tr>\n    <tr>\n      <th>296</th>\n      <td>140</td>\n      <td>BANH</td>\n      <td>217</td>\n      <td>5</td>\n    </tr>\n    <tr>\n      <th>297</th>\n      <td>2</td>\n      <td>LAP-ALS</td>\n      <td>216</td>\n      <td>5</td>\n    </tr>\n    <tr>\n      <th>298</th>\n      <td>230</td>\n      <td>LAP-ALS</td>\n      <td>216</td>\n      <td>5</td>\n    </tr>\n    <tr>\n      <th>299</th>\n      <td>300</td>\n      <td>BOC</td>\n      <td>216</td>\n      <td>5</td>\n    </tr>\n  </tbody>\n</table>\n<p>1500 rows × 4 columns</p>\n</div>"
     },
     "metadata": {},
     "execution_count": 14
    }
   ],
   "source": [
    "df"
   ]
  },
  {
   "cell_type": "code",
   "execution_count": null,
   "metadata": {},
   "outputs": [],
   "source": [
    "fig = go.Figure(data=[go.Scatter3d(\n",
    "    x=df[\"vobcid\"],\n",
    "    y=df[\"commLossCount\"],\n",
    "    z=df[\"commType\"],\n",
    "    mode='markers',\n",
    "    marker=dict(\n",
    "        size=12,\n",
    "        color=z,                # set color to an array/list of desired values\n",
    "        colorscale='Viridis',   # choose a colorscale\n",
    "        opacity=0.8\n",
    "    )\n",
    ")])"
   ]
  }
 ],
 "metadata": {
  "language_info": {
   "codemirror_mode": {
    "name": "ipython",
    "version": 3
   },
   "file_extension": ".py",
   "mimetype": "text/x-python",
   "name": "python",
   "nbconvert_exporter": "python",
   "pygments_lexer": "ipython3",
   "version": "3.7.7-final"
  },
  "orig_nbformat": 2,
  "kernelspec": {
   "name": "python37764bitvenvvenv6f01bbe94ad54120a0f6e41e10918876",
   "display_name": "Python 3.7.7 64-bit ('.venv': venv)"
  }
 },
 "nbformat": 4,
 "nbformat_minor": 2
}